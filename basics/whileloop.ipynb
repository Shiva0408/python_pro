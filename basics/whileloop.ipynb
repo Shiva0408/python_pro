{
 "cells": [
  {
   "cell_type": "code",
   "execution_count": 1,
   "metadata": {},
   "outputs": [
    {
     "name": "stdout",
     "output_type": "stream",
     "text": [
      "ramu\n"
     ]
    }
   ],
   "source": [
    "print(\"ramu\")"
   ]
  },
  {
   "cell_type": "code",
   "execution_count": 3,
   "metadata": {},
   "outputs": [
    {
     "name": "stdout",
     "output_type": "stream",
     "text": [
      "Hello World\n",
      "Hello World\n",
      "Hello World\n",
      "Hello World\n",
      "Hello World\n"
     ]
    }
   ],
   "source": [
    "#1\n",
    "#WAP to print the “hello world” for 5 times by using a while loop.\n",
    "start=1\n",
    "end=5\n",
    "while start<=end:\n",
    "    print(\"Hello World\")\n",
    "    start+=1"
   ]
  },
  {
   "cell_type": "code",
   "execution_count": 2,
   "metadata": {},
   "outputs": [
    {
     "name": "stdout",
     "output_type": "stream",
     "text": [
      "1\n",
      "2\n",
      "3\n",
      "4\n",
      "5\n",
      "6\n",
      "7\n",
      "8\n",
      "9\n",
      "10\n"
     ]
    }
   ],
   "source": [
    "#2\n",
    "#WAP to print the number from 1 to 10 by using a while loop\n",
    "start=1\n",
    "end=10\n",
    "while start<=end:\n",
    "    print(start)\n",
    "    start+=1"
   ]
  },
  {
   "cell_type": "code",
   "execution_count": 4,
   "metadata": {},
   "outputs": [
    {
     "name": "stdout",
     "output_type": "stream",
     "text": [
      "1\n",
      "2\n",
      "3\n",
      "4\n",
      "5\n"
     ]
    }
   ],
   "source": [
    "#3\n",
    "#WAP to print the natural number until 1 to nth times by using a while loop\n",
    "n=int(input())\n",
    "start=1\n",
    "end=n\n",
    "while start<=end:\n",
    "    print(start)\n",
    "    start+=1"
   ]
  },
  {
   "cell_type": "code",
   "execution_count": 2,
   "metadata": {},
   "outputs": [
    {
     "name": "stdout",
     "output_type": "stream",
     "text": [
      "5\n",
      "4\n",
      "3\n",
      "2\n",
      "1\n"
     ]
    }
   ],
   "source": [
    "#4\n",
    "#WAP to print the reverse of the natural number nth to 0 times by using a while loop\n",
    "n=int(input())\n",
    "start=1\n",
    "end=n\n",
    "while end>=start:\n",
    "    print(end)\n",
    "    end-=1\n",
    "    "
   ]
  },
  {
   "cell_type": "code",
   "execution_count": 16,
   "metadata": {},
   "outputs": [
    {
     "name": "stdout",
     "output_type": "stream",
     "text": [
      "0\n",
      "1\n",
      "2\n",
      "3\n",
      "4\n",
      "5\n"
     ]
    }
   ],
   "source": [
    "#5\n",
    "#WAP to print the whole number until nth times by using a while loop.\n",
    "n=int(input())\n",
    "start=0\n",
    "end=n\n",
    "while start<=end:\n",
    "    print(start)\n",
    "    start+=1"
   ]
  },
  {
   "cell_type": "code",
   "execution_count": 3,
   "metadata": {},
   "outputs": [
    {
     "name": "stdout",
     "output_type": "stream",
     "text": [
      "10\n",
      "9\n",
      "8\n",
      "7\n",
      "6\n",
      "5\n",
      "4\n",
      "3\n",
      "2\n",
      "1\n",
      "0\n"
     ]
    }
   ],
   "source": [
    "#6\n",
    "#WAP to print the reverse of the whole number until nth times by using a while loop.\n",
    "n=int(input())\n",
    "start=0\n",
    "end=n\n",
    "while end>=start:\n",
    "    print(end)\n",
    "    end-=1"
   ]
  },
  {
   "cell_type": "code",
   "execution_count": 20,
   "metadata": {},
   "outputs": [
    {
     "name": "stdout",
     "output_type": "stream",
     "text": [
      "2\n",
      "4\n",
      "6\n",
      "8\n",
      "10\n"
     ]
    }
   ],
   "source": [
    "#7\n",
    "#WAP to print the even number until nth times by using a while loop.\n",
    "n=int(input())\n",
    "start=1\n",
    "end=n\n",
    "while start<=end:\n",
    "    if start%2==0:\n",
    "        print(start)\n",
    "    start+=1"
   ]
  },
  {
   "cell_type": "code",
   "execution_count": 21,
   "metadata": {},
   "outputs": [
    {
     "name": "stdout",
     "output_type": "stream",
     "text": [
      "10\n",
      "8\n",
      "6\n",
      "4\n",
      "2\n"
     ]
    }
   ],
   "source": [
    "#8\n",
    "#WAP to print reserve the even number until nth times by using a while loop.\n",
    "n=int(input())\n",
    "start=1\n",
    "end=n\n",
    "while end>=start:\n",
    "    if end%2==0:\n",
    "        print(end)\n",
    "    end-=1\n"
   ]
  },
  {
   "cell_type": "code",
   "execution_count": 16,
   "metadata": {},
   "outputs": [
    {
     "name": "stdout",
     "output_type": "stream",
     "text": [
      "1\n",
      "3\n",
      "5\n",
      "7\n",
      "9\n",
      "11\n",
      "13\n",
      "15\n",
      "17\n",
      "19\n",
      "21\n",
      "23\n",
      "25\n",
      "27\n",
      "29\n"
     ]
    }
   ],
   "source": [
    "#9\n",
    "#WAP to print the odd number until nth times by using a while loop\n",
    "n=int(input())\n",
    "start=1\n",
    "end=n\n",
    "while start<=end:\n",
    "    if start%2!=0:\n",
    "        print(start)\n",
    "    start+=1"
   ]
  },
  {
   "cell_type": "code",
   "execution_count": 23,
   "metadata": {},
   "outputs": [
    {
     "name": "stdout",
     "output_type": "stream",
     "text": [
      "9\n",
      "7\n",
      "5\n",
      "3\n",
      "1\n"
     ]
    }
   ],
   "source": [
    "#10\n",
    "#WAP to print reserve the odd number until nth times by using a while loop\n",
    "n=int(input())\n",
    "start=1\n",
    "end=n\n",
    "while end>=start:\n",
    "    if end%2!=0:\n",
    "        print(end)\n",
    "    end-=1"
   ]
  },
  {
   "cell_type": "code",
   "execution_count": 3,
   "metadata": {},
   "outputs": [
    {
     "name": "stdout",
     "output_type": "stream",
     "text": [
      "5\n",
      "10\n",
      "15\n",
      "20\n",
      "25\n",
      "30\n",
      "35\n",
      "40\n",
      "45\n",
      "50\n",
      "55\n",
      "60\n",
      "65\n",
      "70\n",
      "75\n",
      "80\n",
      "85\n",
      "90\n",
      "95\n",
      "100\n"
     ]
    }
   ],
   "source": [
    "#11\n",
    "#WAP to print the nth table 1 to 20, format ==> 5 * 1 = 5 to 5 * 20 = 100\n",
    "n=int(input())\n",
    "x=int(input())\n",
    "start=1\n",
    "while start<=x:\n",
    "    res=n*start\n",
    "    print(res)\n",
    "    start+=1\n"
   ]
  },
  {
   "cell_type": "code",
   "execution_count": 4,
   "metadata": {},
   "outputs": [
    {
     "name": "stdout",
     "output_type": "stream",
     "text": [
      "100\n",
      "95\n",
      "90\n",
      "85\n",
      "80\n",
      "75\n",
      "70\n",
      "65\n",
      "60\n",
      "55\n",
      "50\n",
      "45\n",
      "40\n",
      "35\n",
      "30\n",
      "25\n",
      "20\n",
      "15\n",
      "10\n",
      "5\n"
     ]
    }
   ],
   "source": [
    "#12\n",
    "#WAP to print the nth table 20 to 1, format ==> 5 * 20 = 100 to 5 * 1 = 5\n",
    "n=int(input())\n",
    "x=int(input())\n",
    "start=1\n",
    "while x>=start:\n",
    "    res=n*x\n",
    "    print(res)\n",
    "    x-=1"
   ]
  },
  {
   "cell_type": "code",
   "execution_count": 5,
   "metadata": {},
   "outputs": [
    {
     "name": "stdout",
     "output_type": "stream",
     "text": [
      "27\n",
      "30\n",
      "33\n",
      "36\n",
      "39\n",
      "42\n",
      "45\n",
      "48\n",
      "51\n",
      "54\n",
      "57\n",
      "60\n",
      "63\n",
      "66\n"
     ]
    }
   ],
   "source": [
    "#13\n",
    "#WAP to print the numbers which are divisible by 3 from 25 to 66.\n",
    "start=25\n",
    "end=66\n",
    "while start<=end:\n",
    "    if start%3==0:\n",
    "        print(start)\n",
    "    start+=1"
   ]
  },
  {
   "cell_type": "code",
   "execution_count": 6,
   "metadata": {},
   "outputs": [
    {
     "name": "stdout",
     "output_type": "stream",
     "text": [
      "15\n",
      "30\n",
      "45\n",
      "60\n",
      "75\n"
     ]
    }
   ],
   "source": [
    "#14\n",
    "#WAP to print the numbers which are divisible by 3 and 5 from 15 to 76.\n",
    "start=15\n",
    "end=76\n",
    "while start<=end:\n",
    "    if start%3==0 and start%5==0:\n",
    "        print(start)\n",
    "    start+=1"
   ]
  },
  {
   "cell_type": "code",
   "execution_count": 9,
   "metadata": {},
   "outputs": [
    {
     "name": "stdout",
     "output_type": "stream",
     "text": [
      "35\n",
      "70\n"
     ]
    }
   ],
   "source": [
    "#15\n",
    "#WAP to print the numbers which are divisible by 5 and 7 from 77 to 22\n",
    "start=77\n",
    "end=22\n",
    "while end<=start:\n",
    "    if end%5==0 and end%7==0:\n",
    "        print(end)\n",
    "    end+=1"
   ]
  },
  {
   "cell_type": "code",
   "execution_count": 12,
   "metadata": {},
   "outputs": [
    {
     "name": "stdout",
     "output_type": "stream",
     "text": [
      "Love you\n",
      "hate you\n",
      "Love you\n",
      "Love you\n",
      "hate you\n",
      "Love you\n",
      "i like you\n",
      "Love you\n",
      "hate you\n",
      "Love you\n",
      "Love you\n",
      "hate you\n",
      "Love you\n",
      "i like you\n"
     ]
    }
   ],
   "source": [
    "#16\n",
    "\"\"\"WAP to print the ”love you” if value is divisible by 3, or print “hate you” value is \n",
    "divisible by 5, to print “i like you” if divisible by 3 and 5, from 1 to 30.\"\"\"\n",
    "start=1\n",
    "end=30\n",
    "while start<=end:\n",
    "    if (start%3==0 and start%5==0):\n",
    "        print(\"i like you\")\n",
    "    elif start%3==0:\n",
    "        print(\"Love you\")\n",
    "    elif start%5==0:\n",
    "        print(\"hate you\")\n",
    "    start+=1"
   ]
  },
  {
   "cell_type": "code",
   "execution_count": 6,
   "metadata": {},
   "outputs": [
    {
     "name": "stdout",
     "output_type": "stream",
     "text": [
      "6\n"
     ]
    }
   ],
   "source": [
    "#17\n",
    "#WAP to print sum of the 1 to nth natural numbers\n",
    "n=int(input())\n",
    "start=1\n",
    "end=n\n",
    "sum=0\n",
    "while start<=end:\n",
    "    sum=sum+start\n",
    "    start+=1\n",
    "print(sum)    "
   ]
  },
  {
   "cell_type": "code",
   "execution_count": 11,
   "metadata": {},
   "outputs": [
    {
     "name": "stdout",
     "output_type": "stream",
     "text": [
      "110\n"
     ]
    }
   ],
   "source": [
    "#18\n",
    "#WAP to print sum of the even numbers 1 to 20 numbers.\n",
    "start=1\n",
    "end=20\n",
    "sum=0\n",
    "while start<=end:\n",
    "    if start%2==0:\n",
    "        sum=sum+start\n",
    "    start+=1\n",
    "print(sum)   "
   ]
  },
  {
   "cell_type": "code",
   "execution_count": 13,
   "metadata": {},
   "outputs": [
    {
     "name": "stdout",
     "output_type": "stream",
     "text": [
      "720\n"
     ]
    }
   ],
   "source": [
    "#19\n",
    "#WAP to print products of the 1 to 6 numbers.\n",
    "start=1\n",
    "end=6\n",
    "fact=1\n",
    "while start<=end:\n",
    "    fact=fact*start\n",
    "    start+=1\n",
    "print(fact)\n",
    "    "
   ]
  },
  {
   "cell_type": "code",
   "execution_count": 15,
   "metadata": {},
   "outputs": [
    {
     "name": "stdout",
     "output_type": "stream",
     "text": [
      "15\n"
     ]
    }
   ],
   "source": [
    "#20\n",
    "#WAP to count the no of odd values from 1 to 30 numbers.\n",
    "start=1\n",
    "end=30\n",
    "count=0\n",
    "while start<=end:\n",
    "    if start%2!=0:\n",
    "        count=count+1\n",
    "    start+=1\n",
    "print(count)   "
   ]
  },
  {
   "cell_type": "code",
   "execution_count": 17,
   "metadata": {},
   "outputs": [
    {
     "name": "stdout",
     "output_type": "stream",
     "text": [
      "1\n",
      "2\n",
      "5\n",
      "10\n"
     ]
    }
   ],
   "source": [
    "#21\n",
    "#WAP to print the factors of the given number\n",
    "n=int(input())\n",
    "start=1\n",
    "end=n\n",
    "while start<=end:\n",
    "    if end%start==0:\n",
    "        print(start)\n",
    "    start+=1\n"
   ]
  },
  {
   "cell_type": "code",
   "execution_count": 20,
   "metadata": {},
   "outputs": [
    {
     "name": "stdout",
     "output_type": "stream",
     "text": [
      "100\n"
     ]
    }
   ],
   "source": [
    "#22\n",
    "#WAP to prod of the factors of the given number.\n",
    "n=int(input())\n",
    "start=1\n",
    "end=n\n",
    "fact=1\n",
    "while start<=end:\n",
    "    if end%start==0:\n",
    "        fact=fact*start\n",
    "    start+=1\n",
    "print(fact)\n",
    "        "
   ]
  },
  {
   "cell_type": "code",
   "execution_count": 13,
   "metadata": {},
   "outputs": [
    {
     "name": "stdout",
     "output_type": "stream",
     "text": [
      "0 1\n",
      "1\n",
      "2\n",
      "3\n",
      "5\n",
      "8\n",
      "13\n"
     ]
    }
   ],
   "source": [
    "#23\n",
    "#WAP to print Fibonacci series 0 to nth\n",
    "n=int(input())\n",
    "start=0\n",
    "end=1\n",
    "sum=0\n",
    "print(start,end)\n",
    "while start<=n:\n",
    "    sum=start+end\n",
    "    start=end\n",
    "    end=sum\n",
    "    print(sum)\n",
    "    \n",
    "    "
   ]
  },
  {
   "cell_type": "code",
   "execution_count": 20,
   "metadata": {},
   "outputs": [
    {
     "name": "stdout",
     "output_type": "stream",
     "text": [
      "120\n"
     ]
    }
   ],
   "source": [
    "#24\n",
    "#WAP to find out the factorial number of a given number.\n",
    "n=int(input())\n",
    "start=1\n",
    "fact=1\n",
    "while n>=start:\n",
    "    fact=fact*n\n",
    "    n-=1\n",
    "print(fact)\n"
   ]
  },
  {
   "cell_type": "code",
   "execution_count": null,
   "metadata": {},
   "outputs": [],
   "source": [
    "#25\n",
    "#WAP to print the factorial numbers in the given range m to n.\n",
    "n=int(input())\n",
    "start=1\n",
    "fact=1\n",
    "while n>=start:\n",
    "    fact=fact*n\n",
    "    n-=1\n",
    "print(fact)"
   ]
  },
  {
   "cell_type": "code",
   "execution_count": 23,
   "metadata": {},
   "outputs": [
    {
     "name": "stdout",
     "output_type": "stream",
     "text": [
      "prime\n"
     ]
    }
   ],
   "source": [
    "#26\n",
    "#WAP to check whether a given number is a prime number or not.\n",
    "n=int(input())\n",
    "start=1\n",
    "end=n\n",
    "count=0\n",
    "while start<=n:\n",
    "    if n%start==0:\n",
    "        count+=1\n",
    "    start+=1\n",
    "if count==2:\n",
    "    print(\"prime\")\n",
    "else:\n",
    "    print(\"not prime\")"
   ]
  },
  {
   "cell_type": "code",
   "execution_count": 25,
   "metadata": {},
   "outputs": [
    {
     "name": "stdout",
     "output_type": "stream",
     "text": [
      "prime\n"
     ]
    }
   ],
   "source": [
    "#27\n",
    "#WAP to print the prime numbers in the given range m to n.\n",
    "n=int(input())\n",
    "start=1\n",
    "end=n\n",
    "count=0\n",
    "while start<=n:\n",
    "    if n%start==0:\n",
    "        count+=1\n",
    "    start+=1\n",
    "if count==2:\n",
    "    print(\"prime\")\n",
    "else:\n",
    "    print(\"not prime\")"
   ]
  },
  {
   "cell_type": "code",
   "execution_count": 42,
   "metadata": {},
   "outputs": [
    {
     "name": "stdout",
     "output_type": "stream",
     "text": [
      "371\n",
      "amstrong\n"
     ]
    }
   ],
   "source": [
    "#28\n",
    "#WAP to check whether a given number is an armstrong number or not\n",
    "n=int(input())\n",
    "res1=1\n",
    "sum=0\n",
    "t=n\n",
    "while n:\n",
    "    r=n%10\n",
    "    res1=r*r*r\n",
    "    sum+=res1\n",
    "    n=n//10\n",
    "print(sum)\n",
    "if sum==t:\n",
    "    print(\"amstrong\")\n",
    "else:\n",
    "    print(\"not a amstrong\")\n",
    "    "
   ]
  },
  {
   "cell_type": "code",
   "execution_count": 48,
   "metadata": {},
   "outputs": [
    {
     "name": "stdout",
     "output_type": "stream",
     "text": [
      "not a prime number\n"
     ]
    }
   ],
   "source": [
    "#29\n",
    "#Write a program to print prime series 1 to nth\n",
    "n=int(input())\n",
    "start=1\n",
    "count=0\n",
    "while start<=n:\n",
    "    if n%start==0:\n",
    "        count+=1\n",
    "    start+=1\n",
    "if count==2:\n",
    "    print(\"prime number\")\n",
    "else:\n",
    "    print(\"not a prime number\")\n",
    "\n"
   ]
  },
  {
   "cell_type": "code",
   "execution_count": 61,
   "metadata": {},
   "outputs": [
    {
     "ename": "ZeroDivisionError",
     "evalue": "integer modulo by zero",
     "output_type": "error",
     "traceback": [
      "\u001b[1;31m---------------------------------------------------------------------------\u001b[0m",
      "\u001b[1;31mZeroDivisionError\u001b[0m                         Traceback (most recent call last)",
      "Cell \u001b[1;32mIn[61], line 11\u001b[0m\n\u001b[0;32m      9\u001b[0m     \u001b[39msum\u001b[39m\u001b[39m=\u001b[39ms\u001b[39m+\u001b[39ms1\n\u001b[0;32m     10\u001b[0m     \u001b[39mwhile\u001b[39;00m s\u001b[39m<\u001b[39m\u001b[39m=\u001b[39m\u001b[39msum\u001b[39m:\n\u001b[1;32m---> 11\u001b[0m         \u001b[39mif\u001b[39;00m \u001b[39msum\u001b[39;49m\u001b[39m%\u001b[39;49ms\u001b[39m==\u001b[39m\u001b[39m0\u001b[39m:\n\u001b[0;32m     12\u001b[0m             count\u001b[39m+\u001b[39m\u001b[39m=\u001b[39m\u001b[39m1\u001b[39m\n\u001b[0;32m     13\u001b[0m s\u001b[39m+\u001b[39m\u001b[39m=\u001b[39m\u001b[39m1\u001b[39m\n",
      "\u001b[1;31mZeroDivisionError\u001b[0m: integer modulo by zero"
     ]
    }
   ],
   "source": [
    "#30\n",
    "#Write a program to print 1 to 100 prime numbers in fibonacci series\n",
    "s=0\n",
    "s1=1\n",
    "end=100\n",
    "sum=0\n",
    "count=0\n",
    "while s1<=end:\n",
    "    sum=s+s1\n",
    "    while s<=sum:\n",
    "        if sum%s==0:\n",
    "            count+=1\n",
    "s+=1\n",
    "if count==2:\n",
    "    s=s1\n",
    "    s1=sum\n",
    "print(sum)"
   ]
  },
  {
   "cell_type": "code",
   "execution_count": 31,
   "metadata": {},
   "outputs": [
    {
     "name": "stdout",
     "output_type": "stream",
     "text": [
      "1331\n",
      "\n",
      "pallindrome\n"
     ]
    }
   ],
   "source": [
    "#31\n",
    "#WAP to the given number is palindrome or not.\n",
    "n=1331\n",
    "tem=n\n",
    "m=0\n",
    "while n:\n",
    "    res=n%10\n",
    "    m=m*10+res\n",
    "    n=n//10\n",
    "    print(res,end=\"\")\n",
    "print(\"\\n\")\n",
    "if m==tem:\n",
    "    print(\"pallindrome\")\n",
    "else:\n",
    "    print(\"not a pallindrome\")"
   ]
  },
  {
   "cell_type": "code",
   "execution_count": 34,
   "metadata": {},
   "outputs": [
    {
     "name": "stdout",
     "output_type": "stream",
     "text": [
      "shiva narayanaa\n",
      "shiva narayanaa\n",
      "shiva narayanaa\n",
      "shiva narayanaa\n",
      "shiva narayanaa\n"
     ]
    }
   ],
   "source": [
    "#32\n",
    "\"\"\"WAP to check whether the length of the string is even or odd. If it is even, print \n",
    "that string 10 times. If it is not printed 5 times\"\"\"\n",
    "n=\"shiva narayanaa\"\n",
    "start=1\n",
    "end=len(n)\n",
    "if len(n)%2==0:\n",
    "    while start<=10:\n",
    "        print(n)\n",
    "        start+=1\n",
    "else:\n",
    "    while start<=5:\n",
    "        print(n)\n",
    "        start+=1 "
   ]
  },
  {
   "cell_type": "code",
   "execution_count": 7,
   "metadata": {},
   "outputs": [
    {
     "name": "stdout",
     "output_type": "stream",
     "text": [
      "a b c d "
     ]
    }
   ],
   "source": [
    "#WAP to print the uppercase character from ‘A’ to ‘Z’ by using a while loop.\n",
    "start=65\n",
    "end=90\n",
    "while start<=end:\n",
    "    print(chr(start),end=\" \")\n",
    "    start+=1\n",
    "    "
   ]
  },
  {
   "cell_type": "code",
   "execution_count": 14,
   "metadata": {},
   "outputs": [
    {
     "name": "stdout",
     "output_type": "stream",
     "text": [
      "a b c d e f g h i j k l m n o p q r s t u v w x y z "
     ]
    }
   ],
   "source": [
    "#WAP to print the lowercase character from ‘a’ to ‘z’ by using a while loop.\n",
    "start=97\n",
    "end=122\n",
    "while start<=end:\n",
    "    print(chr(start),end=\" \")\n",
    "    start+=1"
   ]
  },
  {
   "cell_type": "code",
   "execution_count": 24,
   "metadata": {},
   "outputs": [
    {
     "name": "stdout",
     "output_type": "stream",
     "text": [
      "\u0000 \u0001 \u0002 \u0003 \u0004 \u0005 \u0006 \u0007 \t "
     ]
    }
   ],
   "source": [
    "#WAP to print the ascii numbers character from ‘0’ to ‘9’ by using a while loop.\n",
    "start=0\n",
    "end=9\n",
    "while start<=end:\n",
    "    print(chr(start),end=\" \")\n",
    "    start+=1"
   ]
  },
  {
   "cell_type": "code",
   "execution_count": 23,
   "metadata": {},
   "outputs": [
    {
     "name": "stdout",
     "output_type": "stream",
     "text": [
      "E F G H I J K L M N O P Q R S T U "
     ]
    }
   ],
   "source": [
    "#WAP to print the uppercase character from ‘E’ to ‘U’ by using a while loop.\n",
    "start=69\n",
    "end=85\n",
    "while start<=end:\n",
    "    print(chr(start),end=\" \")\n",
    "    start+=1\n",
    "    "
   ]
  },
  {
   "cell_type": "code",
   "execution_count": 26,
   "metadata": {},
   "outputs": [
    {
     "name": "stdout",
     "output_type": "stream",
     "text": [
      "Z Y X W V U T S R Q P O N M L K J I H G F E D C B A "
     ]
    }
   ],
   "source": [
    "#WAP to print the uppercase character from ‘Z’ to ‘A’ by using a while loop.\n",
    "start=65\n",
    "end=90\n",
    "while end>=start:\n",
    "    print(chr(end),end=\" \")\n",
    "    end-=1"
   ]
  },
  {
   "cell_type": "code",
   "execution_count": 37,
   "metadata": {},
   "outputs": [
    {
     "name": "stdout",
     "output_type": "stream",
     "text": [
      "U T S R Q P O N M L K J I H G "
     ]
    }
   ],
   "source": [
    "#WAP to print the uppercase character from ‘U’ to ‘G’ by using a while loop.\n",
    "start='U'\n",
    "s=ord(start)\n",
    "end='G'\n",
    "e=ord(end)\n",
    "while s>=e:\n",
    "    print(chr(s),end=\" \")\n",
    "    s-=1"
   ]
  },
  {
   "cell_type": "code",
   "execution_count": 40,
   "metadata": {},
   "outputs": [
    {
     "name": "stdout",
     "output_type": "stream",
     "text": [
      "i j k l m n o p q r s t u v w x y "
     ]
    }
   ],
   "source": [
    "#WAP to print the lowercase character from ‘i’ to ‘y’ by using a while loop.\n",
    "start='i'\n",
    "s=ord(start)\n",
    "end='y'\n",
    "e=ord(end)\n",
    "while s<=e:\n",
    "    print(chr(s),end=\" \")\n",
    "    s+=1"
   ]
  },
  {
   "cell_type": "code",
   "execution_count": 41,
   "metadata": {},
   "outputs": [
    {
     "name": "stdout",
     "output_type": "stream",
     "text": [
      "z y x w v u t s r q p o n m l k j i h g f e d c b a "
     ]
    }
   ],
   "source": [
    "#WAP to print the lowercase character from ‘z’ to ‘a’ by using a while loop.\n",
    "start='z'\n",
    "s=ord(start)\n",
    "end='a'\n",
    "e=ord(end)\n",
    "while s>=e:\n",
    "    print(chr(s),end=\" \")\n",
    "    s-=1"
   ]
  },
  {
   "cell_type": "code",
   "execution_count": 42,
   "metadata": {},
   "outputs": [
    {
     "name": "stdout",
     "output_type": "stream",
     "text": [
      "p o n m l k j i h g f e d c "
     ]
    }
   ],
   "source": [
    "#WAP to print the lowercase character from ‘p’ to ‘c’ by using a while loop\n",
    "start='p'\n",
    "s=ord(start)\n",
    "end='c'\n",
    "e=ord(end)\n",
    "while s>=e:\n",
    "    print(chr(s),end=\" \")\n",
    "    s-=1"
   ]
  },
  {
   "cell_type": "code",
   "execution_count": 44,
   "metadata": {},
   "outputs": [
    {
     "name": "stdout",
     "output_type": "stream",
     "text": [
      "B D F H J L N P R T V X Z "
     ]
    }
   ],
   "source": [
    "#WAP to print the uppercase characters based on even ascii values.\n",
    "start=\"A\"\n",
    "s=ord(start)\n",
    "end=\"Z\"\n",
    "e=ord(end)\n",
    "while s<=e:\n",
    "    if s%2==0:\n",
    "        print(chr(s),end=\" \")\n",
    "    s+=1"
   ]
  },
  {
   "cell_type": "code",
   "execution_count": 45,
   "metadata": {},
   "outputs": [
    {
     "name": "stdout",
     "output_type": "stream",
     "text": [
      "b d f h j l n p r t v x z "
     ]
    }
   ],
   "source": [
    "#WAP to print the lowercase characters based on even ascii values.\n",
    "start=\"a\"\n",
    "s=ord(start)\n",
    "end=\"z\"\n",
    "e=ord(end)\n",
    "while s<=e:\n",
    "    if s%2==0:\n",
    "        print(chr(s),end=\" \")\n",
    "    s+=1"
   ]
  },
  {
   "cell_type": "code",
   "execution_count": 46,
   "metadata": {},
   "outputs": [
    {
     "name": "stdout",
     "output_type": "stream",
     "text": [
      "A C E G I K M O Q S U W Y "
     ]
    }
   ],
   "source": [
    "#WAP to print the uppercase characters based on odd ascii values\n",
    "start=\"A\"\n",
    "s=ord(start)\n",
    "end=\"Z\"\n",
    "e=ord(end)\n",
    "while s<=e:\n",
    "    if s%2!=0:\n",
    "        print(chr(s),end=\" \")\n",
    "    s+=1"
   ]
  },
  {
   "cell_type": "code",
   "execution_count": 47,
   "metadata": {},
   "outputs": [
    {
     "name": "stdout",
     "output_type": "stream",
     "text": [
      "a c e g i k m o q s u w y "
     ]
    }
   ],
   "source": [
    "#WAP to print the lowercase characters based on odd ascii values.\n",
    "start=\"a\"\n",
    "s=ord(start)\n",
    "end=\"z\"\n",
    "e=ord(end)\n",
    "while s<=e:\n",
    "    if s%2!=0:\n",
    "        print(chr(s),end=\" \")\n",
    "    s+=1"
   ]
  },
  {
   "cell_type": "code",
   "execution_count": 47,
   "metadata": {},
   "outputs": [
    {
     "name": "stdout",
     "output_type": "stream",
     "text": [
      "4\n"
     ]
    }
   ],
   "source": [
    "#WAP to count the number of vowels present in D to V\n",
    "start=\"D\"\n",
    "s=ord(start)\n",
    "end=\"V\"\n",
    "e=ord(end)\n",
    "count=0\n",
    "while s<=e:\n",
    "    if chr(s) in (\"AEIOU\"):\n",
    "        count+=1\n",
    "    s+=1\n",
    "print(count)"
   ]
  },
  {
   "cell_type": "code",
   "execution_count": 54,
   "metadata": {},
   "outputs": [
    {
     "name": "stdout",
     "output_type": "stream",
     "text": [
      "225\n"
     ]
    }
   ],
   "source": [
    "\"\"\"WAP to print the square of the number in between the range from m to n which \n",
    "is multiple of 3. WAP to print a number from range m to m which is divisible by \n",
    "5.\"\"\"\n",
    "start=int(input())\n",
    "end=int(input())\n",
    "while start<=end:\n",
    "    if start%3==0 and start%5==0:\n",
    "        res=start**2\n",
    "    start+=1\n",
    "print(res)\n"
   ]
  },
  {
   "cell_type": "code",
   "execution_count": 60,
   "metadata": {},
   "outputs": [
    {
     "name": "stdout",
     "output_type": "stream",
     "text": [
      "18\n",
      "9\n"
     ]
    }
   ],
   "source": [
    "\"\"\"Write a program which takes an integer number and find the sum of digits and \n",
    "repeat until the sum gets a single digit in the end.\"\"\"\n",
    "n=5643\n",
    "sum=0\n",
    "while n:\n",
    "    r=n%10\n",
    "    sum+=r\n",
    "    n=n//10\n",
    "print(sum)\n",
    "sum1=0\n",
    "while sum:\n",
    "    res1=sum%10\n",
    "    sum1+=res1\n",
    "    sum=sum//10\n",
    "print(sum1)"
   ]
  },
  {
   "cell_type": "code",
   "execution_count": 23,
   "metadata": {},
   "outputs": [
    {
     "name": "stdout",
     "output_type": "stream",
     "text": [
      "['0', '1', '2', '3', '4', '5', '6', '7', '8', '9', '10', '11', '12', '13', '14', '15', '16', '17', '18', '19', '20', '21', '22', '23', '24', '25', '26', '27', '28', '29', '30', '31', '32', '33', '34']\n"
     ]
    }
   ],
   "source": [
    "#Write a program to count the numbers of 2’s between 0 and n\n",
    "n=35\n",
    "start=0\n",
    "count=0\n",
    "res=[]\n",
    "while start<n:\n",
    "    res.append(str(start))\n",
    "    start+=1\n",
    "    if \"2\" in res[start-1]:\n",
    "        count=+1\n",
    "print(res)\n"
   ]
  },
  {
   "cell_type": "code",
   "execution_count": 14,
   "metadata": {},
   "outputs": [
    {
     "name": "stdout",
     "output_type": "stream",
     "text": [
      "13\n"
     ]
    }
   ],
   "source": [
    "n = 35\n",
    "i = 0 \n",
    "a = []\n",
    "count = 0\n",
    "while i<n:\n",
    "    a.append(str(i))\n",
    "    i+=1\n",
    "    if \"2\" in a[i-1]:\n",
    "        count +=1\n",
    "print(count)"
   ]
  },
  {
   "cell_type": "code",
   "execution_count": 36,
   "metadata": {},
   "outputs": [
    {
     "name": "stdout",
     "output_type": "stream",
     "text": [
      "s h i v a   n a r a y a n "
     ]
    }
   ],
   "source": [
    "#WAP to print all the characters in a given string.\n",
    "n=\"shiva narayan\"\n",
    "start=0\n",
    "end=len(n)\n",
    "while start<end:\n",
    "    print(n[start],end=\" \")\n",
    "    start+=1"
   ]
  },
  {
   "cell_type": "code",
   "execution_count": 74,
   "metadata": {},
   "outputs": [
    {
     "name": "stdout",
     "output_type": "stream",
     "text": [
      "S A N Y "
     ]
    }
   ],
   "source": [
    "#WAP to print the uppercase characters in a given string\n",
    "n=\"ShivA NaraYan\"\n",
    "start=0\n",
    "end=len(n)\n",
    "while start<end:\n",
    "    if \"A\"<=n[start]<=\"Z\":\n",
    "        print(n[start],end=\" \")\n",
    "    start+=1"
   ]
  },
  {
   "cell_type": "code",
   "execution_count": 75,
   "metadata": {},
   "outputs": [
    {
     "name": "stdout",
     "output_type": "stream",
     "text": [
      "h i v a r a a n "
     ]
    }
   ],
   "source": [
    "#WAP to print the lowercase characters in a given string.\n",
    "n=\"ShivA NaraYan\"\n",
    "start=0\n",
    "end=len(n)\n",
    "while start<end:\n",
    "    if \"a\"<=n[start]<=\"z\":\n",
    "        print(n[start],end=\" \")\n",
    "    start+=1"
   ]
  },
  {
   "cell_type": "code",
   "execution_count": 76,
   "metadata": {},
   "outputs": [
    {
     "name": "stdout",
     "output_type": "stream",
     "text": [
      "115\n",
      "104\n",
      "105\n",
      "118\n",
      "97\n"
     ]
    }
   ],
   "source": [
    "#WAP to print the ascii numbers(Digits) characters in a given string.\n",
    "n=\"shiva\"\n",
    "start=0\n",
    "end=len(n)\n",
    "while start<end:\n",
    "    print(ord(n[start]))\n",
    "    start+=1"
   ]
  },
  {
   "cell_type": "code",
   "execution_count": 85,
   "metadata": {},
   "outputs": [
    {
     "name": "stdout",
     "output_type": "stream",
     "text": [
      "&#$@"
     ]
    }
   ],
   "source": [
    "#WAP to print the special characters in a given string.\n",
    "n=\"S&hivA#Nar$aYan@\"\n",
    "start=0\n",
    "end=len(n)\n",
    "while start<end:\n",
    "    if not(\"a\"<=n[start]<=\"z\" or \"A\"<=n[start]<=\"Z\"):\n",
    "        print(n[start],end=\"\")\n",
    "    start+=1"
   ]
  },
  {
   "cell_type": "code",
   "execution_count": 89,
   "metadata": {},
   "outputs": [
    {
     "name": "stdout",
     "output_type": "stream",
     "text": [
      "i\n",
      "a\n"
     ]
    }
   ],
   "source": [
    "#WAP to Print the vowels in a given string\n",
    "n=\"shiva\"\n",
    "start=0\n",
    "end=len(n)\n",
    "while start<end:\n",
    "    if n[start] in (\"aeiou\"):\n",
    "        print(n[start])\n",
    "    start+=1"
   ]
  },
  {
   "cell_type": "code",
   "execution_count": 90,
   "metadata": {},
   "outputs": [
    {
     "name": "stdout",
     "output_type": "stream",
     "text": [
      "s\n",
      "h\n",
      "v\n"
     ]
    }
   ],
   "source": [
    "#WAP to Print the consonants in a given string.\n",
    "n=\"shiva\"\n",
    "start=0\n",
    "end=len(n)\n",
    "while start<end:\n",
    "    if not(n[start] in (\"aeiou\")):\n",
    "        print(n[start])\n",
    "    start+=1"
   ]
  },
  {
   "cell_type": "code",
   "execution_count": 4,
   "metadata": {},
   "outputs": [
    {
     "name": "stdout",
     "output_type": "stream",
     "text": [
      "anayaran avihs"
     ]
    }
   ],
   "source": [
    "#WAP to print the reverse of the characters in a given string.\n",
    "n=\"shiva narayana\"\n",
    "end=len(n)-1\n",
    "start=0\n",
    "while end>=start:\n",
    "    print(n[end],end='')\n",
    "    end-=1\n",
    "\n"
   ]
  },
  {
   "cell_type": "code",
   "execution_count": 2,
   "metadata": {},
   "outputs": [
    {
     "name": "stdout",
     "output_type": "stream",
     "text": [
      "s i a n r y n "
     ]
    }
   ],
   "source": [
    "#WAP to print even position values characters in a given string\n",
    "n=\"shiva narayana\"\n",
    "start=0\n",
    "end=len(n)\n",
    "while start<end:\n",
    "    if start%2==0:\n",
    "        print(n[start],end=\" \")\n",
    "    start+=1"
   ]
  },
  {
   "cell_type": "code",
   "execution_count": 3,
   "metadata": {},
   "outputs": [
    {
     "name": "stdout",
     "output_type": "stream",
     "text": [
      "h v   a a a a "
     ]
    }
   ],
   "source": [
    "#WAP to print odd position values characters in a given string\n",
    "n=\"shiva narayana\"\n",
    "start=0\n",
    "end=len(n)\n",
    "while start<end:\n",
    "    if start%2!=0:\n",
    "        print(n[start],end=\" \")\n",
    "    start+=1"
   ]
  },
  {
   "cell_type": "code",
   "execution_count": 1,
   "metadata": {},
   "outputs": [
    {
     "name": "stdout",
     "output_type": "stream",
     "text": [
      "hll wrld\n",
      "eoo\n"
     ]
    }
   ],
   "source": [
    "'''i/p:’hello world’\n",
    "o/p:’hll wrld’\n",
    "o/p:’eoo’'''\n",
    "n=\"hello world\"\n",
    "start=0\n",
    "con=\"\"\n",
    "ows=''\n",
    "while start<len(n):\n",
    "    if n[start] in 'aeiouAEIOU':\n",
    "        ows+=n[start]\n",
    "    else:\n",
    "        con+=n[start]\n",
    "    start+=1\n",
    "\n",
    "print(con)\n",
    "print(ows)"
   ]
  },
  {
   "cell_type": "code",
   "execution_count": 27,
   "metadata": {},
   "outputs": [
    {
     "name": "stdout",
     "output_type": "stream",
     "text": [
      "12344\n"
     ]
    }
   ],
   "source": [
    "#i/p:’12hello3 4world4\n",
    "#o/p:’12344’\n",
    "n=\"12hello3 4world4\"\n",
    "start=0\n",
    "end=len(n)\n",
    "res=\"\"\n",
    "while start<end:\n",
    "    if \"0\"<=n[start]<=\"9\":\n",
    "        res+=n[start]\n",
    "    start+=1\n",
    "print(res)"
   ]
  },
  {
   "cell_type": "code",
   "execution_count": 25,
   "metadata": {},
   "outputs": [
    {
     "name": "stdout",
     "output_type": "stream",
     "text": [
      "(*$ $#*)\n"
     ]
    }
   ],
   "source": [
    "\"\"\"i/p:’(*12hello3$ $4#world4*)’\n",
    "o/p:’(*$ $#*)\"\"\"\n",
    "n=\"(*12hello3$ $4#world4*)\"\n",
    "start=0\n",
    "end=len(n)\n",
    "res=\"\"\n",
    "while start<end:\n",
    "    if not(\"A\"<=n[start]<=\"Z\" or \"a\"<=n[start]<=\"z\" or \"0\"<=n[start]<=\"9\"):\n",
    "        res+=n[start]\n",
    "    start+=1\n",
    "print(res)"
   ]
  },
  {
   "cell_type": "code",
   "execution_count": 24,
   "metadata": {},
   "outputs": [
    {
     "name": "stdout",
     "output_type": "stream",
     "text": [
      "eoo123aii\n"
     ]
    }
   ],
   "source": [
    "\"\"\"#I/p: ‘hello world 123 haii’\n",
    "o/p:’eoo123aii’\"\"\"\n",
    "n=\"hello world 123 haii\"\n",
    "res=\"\"\n",
    "start=0\n",
    "while start<len(n):\n",
    "    if n[start] in (\"aeiouAEIOU\") or \"0\"<=n[start]<=\"9\":\n",
    "        res+=n[start]\n",
    "    \"\"\"if  \"0\"<=n[start]<=\"9\":\n",
    "        res+=n[start]\"\"\"\n",
    "    start+=1\n",
    "print(res)\n",
    "    "
   ]
  },
  {
   "cell_type": "code",
   "execution_count": 42,
   "metadata": {},
   "outputs": [
    {
     "name": "stdout",
     "output_type": "stream",
     "text": [
      "eo o 123 aii\n"
     ]
    }
   ],
   "source": [
    "\"\"\"I/p: ‘hello world 123 haii’\n",
    "o/p:’eo o 123 aii’\"\"\"\n",
    "n=\"hello world 123 haii\"\n",
    "start=0\n",
    "res=\"\"\n",
    "while start<len(n):\n",
    "    if n[start] in (\"aeiouAEIOU\") or \"0\"<=n[start]<=\"9\":\n",
    "        res+=n[start]\n",
    "    if n[start]==\" \":\n",
    "        res+=\" \" \n",
    "    start+=1\n",
    "print(res)"
   ]
  },
  {
   "cell_type": "code",
   "execution_count": 45,
   "metadata": {},
   "outputs": [
    {
     "name": "stdout",
     "output_type": "stream",
     "text": [
      "eo o  aii\n"
     ]
    }
   ],
   "source": [
    "\"\"\"I/p: ‘hello world 123 haii’\n",
    "o/p:’eo o aii’\"\"\"\n",
    "n=\"hello world 123 haii\"\n",
    "start=0\n",
    "res=\"\"\n",
    "while start<len(n):\n",
    "    if n[start] in (\"aeiouAEIOU\"):\n",
    "        res+=n[start]\n",
    "    \"\"\"if not(\"0\"<=n[start]<=\"9\"):\n",
    "        res+=n[start]\"\"\"\n",
    "    if n[start]==\" \":\n",
    "        res+=\" \"\n",
    "    start+=1\n",
    "print(res)"
   ]
  },
  {
   "cell_type": "code",
   "execution_count": 50,
   "metadata": {},
   "outputs": [
    {
     "name": "stdout",
     "output_type": "stream",
     "text": [
      "hllo  world  123  haii\n"
     ]
    }
   ],
   "source": [
    "\"\"\"I/p: ‘hello world 123 haii’\n",
    "o/p:’hll world haii’\"\"\"\n",
    "n=\"hello world 123 haii\"\n",
    "start=0\n",
    "res=\"\"\n",
    "while start<len(n):\n",
    "    if not (n[start]==\"e\") or \"0\"<=n[start]<=\"9\":\n",
    "        res+=n[start]\n",
    "    if n[start]==\" \":\n",
    "        res+=\" \"\n",
    "    start+=1\n",
    "print(res)\n",
    "        "
   ]
  },
  {
   "cell_type": "code",
   "execution_count": 2,
   "metadata": {},
   "outputs": [
    {
     "name": "stdout",
     "output_type": "stream",
     "text": [
      "eoo\n",
      "hll wrld\n"
     ]
    }
   ],
   "source": [
    "\"\"\"i/p:’hello world’\n",
    "o/p:’hll wrld’\n",
    "o/p:’eoo’\"\"\"\n",
    "n=\"hello world\"\n",
    "res=\"\"\n",
    "res1=\"\"\n",
    "start=0\n",
    "while start<len(n):\n",
    "    if n[start] in (\"aeiouAEIOU\"):\n",
    "        res+=n[start]\n",
    "    else:\n",
    "        res1+=n[start]\n",
    "    start+=1\n",
    "print(res)\n",
    "print(res1)"
   ]
  },
  {
   "cell_type": "code",
   "execution_count": 43,
   "metadata": {},
   "outputs": [
    {
     "name": "stdout",
     "output_type": "stream",
     "text": [
      "hll wrld\n",
      "eoo\n",
      "12344\n"
     ]
    }
   ],
   "source": [
    "\"\"\"i/p:’12hello3 4world4’\n",
    "o/p:’hll wrld’\n",
    "o/p:’eoo’\n",
    "o/p:’12344’\"\"\"\n",
    "n=\"12hello3 4world4\"\n",
    "start=0\n",
    "res=\"\"\n",
    "res1=\"\"\n",
    "res2=\"\"\n",
    "while start<len(n):\n",
    "    if not(n[start] in (\"aeiouAEIOU\") or \"0\"<=n[start]<=\"9\"):\n",
    "        res+=n[start]\n",
    "    if \"0\"<=n[start]<=\"9\":\n",
    "        res1+=n[start]\n",
    "    if n[start] in (\"aeiou\"):\n",
    "        res2+=n[start]\n",
    "    start+=1\n",
    "print(res)\n",
    "print(res2)\n",
    "print(res1)"
   ]
  },
  {
   "cell_type": "code",
   "execution_count": 22,
   "metadata": {},
   "outputs": [
    {
     "name": "stdout",
     "output_type": "stream",
     "text": [
      "eoo\n",
      "hllwrld\n",
      "12344\n",
      "(*$ $#*)\n"
     ]
    }
   ],
   "source": [
    "\"\"\"i/p:’(*12hello3$ $4#world4*)’\n",
    "o/p:’hllwrld’\n",
    "o/p:’eoo’\n",
    "o/p:’12344’\n",
    "o/p:’(*$ $#*)\"\"\"\n",
    "n=\"(*12hello3$ $4#world4*)\"\n",
    "start=0\n",
    "res=\"\"#vow\n",
    "res1=\"\"#con\n",
    "res2=\"\"#num\n",
    "res3=\"\"#sp\n",
    "while start<len(n):\n",
    "    if not(\"a\"<=n[start]<=\"z\" or \"A\"<=n[start]<=\"Z\" or \"0\"<=n[start]<=\"9\"):\n",
    "        res3+=n[start]\n",
    "    elif  (\"0\"<=n[start]<=\"9\"):\n",
    "        res2+=n[start]\n",
    "    elif n[start] not in (\"aeiouAEIOU\"):\n",
    "        res1+=n[start]\n",
    "    elif n[start] in (\"aeiouAEIOU\"):\n",
    "        res+=n[start]\n",
    "\n",
    "    start+=1\n",
    "print(res)\n",
    "print(res1)\n",
    "print(res2)\n",
    "print(res3)\n"
   ]
  },
  {
   "cell_type": "code",
   "execution_count": 32,
   "metadata": {},
   "outputs": [
    {
     "name": "stdout",
     "output_type": "stream",
     "text": [
      ")*#$ $*(44321ooe\n"
     ]
    }
   ],
   "source": [
    "\"\"\"i/p: ’(*12hello3$ $4#world4*)’\n",
    "o/p: ')*#$ $*(,44321,ooe,dlrwllh'\"\"\"\n",
    "n=\"(*12hello3$ $4#world4*)\"\n",
    "start=0\n",
    "res=\"\"\n",
    "res1=\"\"\n",
    "res2=\"\"\n",
    "end=(len(n)-1)\n",
    "while end>=start:\n",
    "    if not(\"a\"<=n[end]<=\"z\" or \"A\"<=n[end]<=\"Z\" or \"0\"<=n[end]<=\"9\"):\n",
    "        res+=n[end]\n",
    "    if \"0\"<=n[end]<=\"9\":\n",
    "        res1+=n[end]\n",
    "    if (n[end] in (\"aeiouAEIOU\")):\n",
    "        res2+=n[end]\n",
    "    end-=1\n",
    "print(res+res1+res2)"
   ]
  },
  {
   "cell_type": "code",
   "execution_count": 78,
   "metadata": {},
   "outputs": [
    {
     "name": "stdout",
     "output_type": "stream",
     "text": [
      "helloworld\n",
      "he$lloworld\n"
     ]
    }
   ],
   "source": [
    "\"\"\"I/p:’HELLOWORLD’\n",
    "o/p:’h$ll*w*rld’\"\"\"\n",
    "n=\"HELLOWORLD\"\n",
    "res=\"\"\n",
    "start=0\n",
    "while start<len(n):\n",
    "    if \"A\"<=n[start]<=\"Z\":\n",
    "        res+=(chr(ord(n[start])+32))\n",
    "    start+=1\n",
    "print(res)\n",
    "start1=0\n",
    "res1=\"\"\n",
    "while start1<len(res):\n",
    "    if \"a\"<=res[start1]<=\"z\":\n",
    "        res1+=res[start1]\n",
    "        if res[start1]==\"e\":\n",
    "            res1+=\"$\"\n",
    "        start1+=1\n",
    "    start+=1\n",
    "print(res1)\n",
    "\n",
    "\n"
   ]
  }
 ],
 "metadata": {
  "kernelspec": {
   "display_name": "Python 3",
   "language": "python",
   "name": "python3"
  },
  "language_info": {
   "codemirror_mode": {
    "name": "ipython",
    "version": 3
   },
   "file_extension": ".py",
   "mimetype": "text/x-python",
   "name": "python",
   "nbconvert_exporter": "python",
   "pygments_lexer": "ipython3",
   "version": "3.11.3"
  },
  "orig_nbformat": 4
 },
 "nbformat": 4,
 "nbformat_minor": 2
}
