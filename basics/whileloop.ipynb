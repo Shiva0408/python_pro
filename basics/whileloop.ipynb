{
 "cells": [
  {
   "cell_type": "code",
   "execution_count": 1,
   "metadata": {},
   "outputs": [
    {
     "name": "stdout",
     "output_type": "stream",
     "text": [
      "ramu\n"
     ]
    }
   ],
   "source": [
    "print(\"ramu\")"
   ]
  },
  {
   "cell_type": "code",
   "execution_count": 3,
   "metadata": {},
   "outputs": [
    {
     "name": "stdout",
     "output_type": "stream",
     "text": [
      "Hello World\n",
      "Hello World\n",
      "Hello World\n",
      "Hello World\n",
      "Hello World\n"
     ]
    }
   ],
   "source": [
    "#1\n",
    "#WAP to print the “hello world” for 5 times by using a while loop.\n",
    "start=1\n",
    "end=5\n",
    "while start<=end:\n",
    "    print(\"Hello World\")\n",
    "    start+=1"
   ]
  },
  {
   "cell_type": "code",
   "execution_count": 2,
   "metadata": {},
   "outputs": [
    {
     "name": "stdout",
     "output_type": "stream",
     "text": [
      "1\n",
      "2\n",
      "3\n",
      "4\n",
      "5\n",
      "6\n",
      "7\n",
      "8\n",
      "9\n",
      "10\n"
     ]
    }
   ],
   "source": [
    "#2\n",
    "#WAP to print the number from 1 to 10 by using a while loop\n",
    "start=1\n",
    "end=10\n",
    "while start<=end:\n",
    "    print(start)\n",
    "    start+=1"
   ]
  },
  {
   "cell_type": "code",
   "execution_count": 4,
   "metadata": {},
   "outputs": [
    {
     "name": "stdout",
     "output_type": "stream",
     "text": [
      "1\n",
      "2\n",
      "3\n",
      "4\n",
      "5\n"
     ]
    }
   ],
   "source": [
    "#3\n",
    "#WAP to print the natural number until 1 to nth times by using a while loop\n",
    "n=int(input())\n",
    "start=1\n",
    "end=n\n",
    "while start<=end:\n",
    "    print(start)\n",
    "    start+=1"
   ]
  },
  {
   "cell_type": "code",
   "execution_count": 17,
   "metadata": {},
   "outputs": [
    {
     "name": "stdout",
     "output_type": "stream",
     "text": [
      "5\n",
      "4\n",
      "3\n",
      "2\n",
      "1\n"
     ]
    }
   ],
   "source": [
    "#4\n",
    "#WAP to print the reverse of the natural number nth to 0 times by using a while loop\n",
    "n=int(input())\n",
    "start=1\n",
    "end=n\n",
    "while end>=start:\n",
    "    print(end)\n",
    "    end-=1\n",
    "    "
   ]
  },
  {
   "cell_type": "code",
   "execution_count": 16,
   "metadata": {},
   "outputs": [
    {
     "name": "stdout",
     "output_type": "stream",
     "text": [
      "0\n",
      "1\n",
      "2\n",
      "3\n",
      "4\n",
      "5\n"
     ]
    }
   ],
   "source": [
    "#5\n",
    "#WAP to print the whole number until nth times by using a while loop.\n",
    "n=int(input())\n",
    "start=0\n",
    "end=n\n",
    "while start<=end:\n",
    "    print(start)\n",
    "    start+=1"
   ]
  },
  {
   "cell_type": "code",
   "execution_count": 19,
   "metadata": {},
   "outputs": [
    {
     "name": "stdout",
     "output_type": "stream",
     "text": [
      "5\n",
      "4\n",
      "3\n",
      "2\n",
      "1\n",
      "0\n"
     ]
    }
   ],
   "source": [
    "#6\n",
    "#WAP to print the reverse of the whole number until nth times by using a while loop.\n",
    "n=int(input())\n",
    "start=0\n",
    "end=n\n",
    "while end>=start:\n",
    "    print(end)\n",
    "    end-=1"
   ]
  },
  {
   "cell_type": "code",
   "execution_count": 20,
   "metadata": {},
   "outputs": [
    {
     "name": "stdout",
     "output_type": "stream",
     "text": [
      "2\n",
      "4\n",
      "6\n",
      "8\n",
      "10\n"
     ]
    }
   ],
   "source": [
    "#7\n",
    "#WAP to print the even number until nth times by using a while loop.\n",
    "n=int(input())\n",
    "start=1\n",
    "end=n\n",
    "while start<=end:\n",
    "    if start%2==0:\n",
    "        print(start)\n",
    "    start+=1"
   ]
  },
  {
   "cell_type": "code",
   "execution_count": 21,
   "metadata": {},
   "outputs": [
    {
     "name": "stdout",
     "output_type": "stream",
     "text": [
      "10\n",
      "8\n",
      "6\n",
      "4\n",
      "2\n"
     ]
    }
   ],
   "source": [
    "#8\n",
    "#WAP to print reserve the even number until nth times by using a while loop.\n",
    "n=int(input())\n",
    "start=1\n",
    "end=n\n",
    "while end>=start:\n",
    "    if end%2==0:\n",
    "        print(end)\n",
    "    end-=1\n"
   ]
  },
  {
   "cell_type": "code",
   "execution_count": 22,
   "metadata": {},
   "outputs": [
    {
     "name": "stdout",
     "output_type": "stream",
     "text": [
      "1\n",
      "3\n",
      "5\n",
      "7\n",
      "9\n"
     ]
    }
   ],
   "source": [
    "#9\n",
    "#WAP to print the odd number until nth times by using a while loop\n",
    "n=int(input())\n",
    "start=1\n",
    "end=n\n",
    "while start<=end:\n",
    "    if start%2!=0:\n",
    "        print(start)\n",
    "    start+=1"
   ]
  },
  {
   "cell_type": "code",
   "execution_count": 23,
   "metadata": {},
   "outputs": [
    {
     "name": "stdout",
     "output_type": "stream",
     "text": [
      "9\n",
      "7\n",
      "5\n",
      "3\n",
      "1\n"
     ]
    }
   ],
   "source": [
    "#10\n",
    "#WAP to print reserve the odd number until nth times by using a while loop\n",
    "n=int(input())\n",
    "start=1\n",
    "end=n\n",
    "while end>=start:\n",
    "    if end%2!=0:\n",
    "        print(end)\n",
    "    end-=1"
   ]
  }
 ],
 "metadata": {
  "kernelspec": {
   "display_name": "Python 3",
   "language": "python",
   "name": "python3"
  },
  "language_info": {
   "codemirror_mode": {
    "name": "ipython",
    "version": 3
   },
   "file_extension": ".py",
   "mimetype": "text/x-python",
   "name": "python",
   "nbconvert_exporter": "python",
   "pygments_lexer": "ipython3",
   "version": "3.11.3"
  },
  "orig_nbformat": 4
 },
 "nbformat": 4,
 "nbformat_minor": 2
}
