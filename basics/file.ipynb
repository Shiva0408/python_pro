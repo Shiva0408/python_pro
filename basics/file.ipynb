{
 "cells": [
  {
   "cell_type": "code",
   "execution_count": 1,
   "metadata": {},
   "outputs": [
    {
     "name": "stdout",
     "output_type": "stream",
     "text": [
      "<_io.TextIOWrapper name='demo.txt' mode='w' encoding='cp1252'>\n",
      "0\n",
      "27\n"
     ]
    },
    {
     "data": {
      "text/plain": [
       "<function TextIOWrapper.close()>"
      ]
     },
     "execution_count": 1,
     "metadata": {},
     "output_type": "execute_result"
    }
   ],
   "source": [
    "fp=open(\"demo.txt\",'w')\n",
    "print(fp)\n",
    "print(fp.tell())\n",
    "fp.write(\"haii guys very good morning\")\n",
    "print(fp.tell())\n",
    "fp.close"
   ]
  },
  {
   "cell_type": "code",
   "execution_count": 4,
   "metadata": {},
   "outputs": [
    {
     "name": "stdout",
     "output_type": "stream",
     "text": [
      "<_io.TextIOWrapper name='demo.txt' mode='r' encoding='cp1252'>\n",
      "0\n",
      "\n",
      "0\n"
     ]
    }
   ],
   "source": [
    "fp=open(\"demo.txt\",'r')\n",
    "print(fp)\n",
    "print(fp.tell())\n",
    "res=fp.read()\n",
    "print(res)\n",
    "print(fp.tell())\n",
    "fp.close()"
   ]
  },
  {
   "cell_type": "code",
   "execution_count": 5,
   "metadata": {},
   "outputs": [
    {
     "name": "stdout",
     "output_type": "stream",
     "text": [
      "<_io.TextIOWrapper name='demo.txt' mode='a' encoding='cp1252'>\n",
      "0\n",
      "39\n"
     ]
    }
   ],
   "source": [
    "fp=open(\"demo.txt\",'a')\n",
    "print(fp)\n",
    "print(fp.tell())\n",
    "fp.write(\"python is top most programming language\")\n",
    "print(fp.tell())\n",
    "fp.close()"
   ]
  },
  {
   "cell_type": "code",
   "execution_count": 6,
   "metadata": {},
   "outputs": [
    {
     "name": "stdout",
     "output_type": "stream",
     "text": [
      "0\n",
      "21\n",
      "\n",
      "21\n"
     ]
    }
   ],
   "source": [
    "fp=open(\"file1.txt\",\"w+\")\n",
    "print(fp.tell())\n",
    "fp.write(\"good morning everyone\")\n",
    "print(fp.tell())\n",
    "res=fp.read()\n",
    "print(res)\n",
    "print(fp.tell())\n",
    "fp.close()"
   ]
  },
  {
   "cell_type": "code",
   "execution_count": 9,
   "metadata": {},
   "outputs": [
    {
     "name": "stdout",
     "output_type": "stream",
     "text": [
      "0\n",
      "21\n",
      "0\n",
      "good morning everyone\n",
      "21\n"
     ]
    }
   ],
   "source": [
    "fp=open(\"file1.txt\",\"w+\")\n",
    "print(fp.tell())#display the cursor position(before write operation)\n",
    "fp.write(\"good morning everyone\")#write the data inside the file.txt file \n",
    "print(fp.tell())#displaythe cursor position(after the write operation)\n",
    "fp.seek(0)#change the cursor position from end of content to starting position\n",
    "print(fp.tell())#display the cursor position(before read operation)\n",
    "res=fp.read()#read the data from the file.txt file.\n",
    "print(res)\n",
    "print(fp.tell())\n",
    "fp.close()\n"
   ]
  },
  {
   "cell_type": "code",
   "execution_count": 11,
   "metadata": {},
   "outputs": [
    {
     "name": "stdout",
     "output_type": "stream",
     "text": [
      "0\n",
      "good morning everyone\n",
      "21\n",
      "41\n"
     ]
    }
   ],
   "source": [
    "fp=open(\"file1.txt\",\"r+\")\n",
    "print(fp.tell())\n",
    "res=fp.read()\n",
    "print(res)\n",
    "print(fp.tell())\n",
    "fp.write(\"basic level question\")\n",
    "print(fp.tell())\n",
    "fp.close()"
   ]
  },
  {
   "cell_type": "code",
   "execution_count": 8,
   "metadata": {},
   "outputs": [
    {
     "name": "stdout",
     "output_type": "stream",
     "text": [
      "0\n",
      "22\n",
      "asic level questiongood morning haii everyonegood morning haii everyonegood morning haii everyone\n",
      "good morning haii everyonegood byegood byegood byegood byegood bye\n",
      "good morning haii everyone\n",
      "good morning haii everyone\n",
      "243\n"
     ]
    }
   ],
   "source": [
    "fp=open(\"file1.txt\",\"r+\")\n",
    "print(fp.tell())\n",
    "fp.write(\"\\nbasic level question\")\n",
    "print(fp.tell())\n",
    "res=fp.read()\n",
    "print(res)\n",
    "print(fp.tell())\n",
    "fp.close()"
   ]
  },
  {
   "cell_type": "code",
   "execution_count": 7,
   "metadata": {},
   "outputs": [
    {
     "name": "stdout",
     "output_type": "stream",
     "text": [
      "215\n",
      "243\n",
      "\n",
      "243\n"
     ]
    }
   ],
   "source": [
    "fp=open(\"file1.txt\",\"a+\")\n",
    "print(fp.tell())\n",
    "fp.write(\"good morning haii everyone\")\n",
    "print(fp.tell())\n",
    "res=fp.read()\n",
    "print(res)\n",
    "print(fp.tell())\n",
    "fp.close()"
   ]
  },
  {
   "cell_type": "code",
   "execution_count": 6,
   "metadata": {},
   "outputs": [
    {
     "name": "stdout",
     "output_type": "stream",
     "text": [
      "187\n",
      "215\n",
      "basic level questionebasic level questiongood morning haii everyonegood morning haii everyonegood morning haii everyone\n",
      "good morning haii everyonegood byegood byegood byegood byegood bye\n",
      "good morning haii everyone\n",
      "215\n"
     ]
    }
   ],
   "source": [
    "fp=open(\"file1.txt\",\"a+\")\n",
    "print(fp.tell())\n",
    "fp.write(\"\\ngood morning haii everyone\")\n",
    "print(fp.tell())\n",
    "fp.seek(0)\n",
    "res=fp.read()\n",
    "print(res)\n",
    "print(fp.tell())\n",
    "fp.close()"
   ]
  },
  {
   "cell_type": "code",
   "execution_count": 2,
   "metadata": {},
   "outputs": [
    {
     "name": "stdout",
     "output_type": "stream",
     "text": [
      "155\n",
      "\n",
      "155\n",
      "163\n"
     ]
    }
   ],
   "source": [
    "fp=open(\"file1.txt\",\"a+\")\n",
    "print(fp.tell())\n",
    "res=fp.read()\n",
    "print(res)\n",
    "print(fp.tell())\n",
    "fp.write(\"good bye\")\n",
    "print(fp.tell())\n",
    "fp.close()"
   ]
  },
  {
   "cell_type": "code",
   "execution_count": 9,
   "metadata": {},
   "outputs": [
    {
     "name": "stdout",
     "output_type": "stream",
     "text": [
      "243\n",
      "0\n",
      "\n",
      "basic level questionasic level questiongood morning haii everyonegood morning haii everyonegood morning haii everyone\n",
      "good morning haii everyonegood byegood byegood byegood byegood bye\n",
      "good morning haii everyone\n",
      "good morning haii everyone\n",
      "243\n",
      "251\n"
     ]
    }
   ],
   "source": [
    "fp=open(\"file1.txt\",\"a+\")\n",
    "print(fp.tell())\n",
    "fp.seek(0)\n",
    "print(fp.tell())\n",
    "res=fp.read()\n",
    "print(res)\n",
    "print(fp.tell())\n",
    "fp.write(\"good bye\")\n",
    "print(fp.tell())\n",
    "fp.close()"
   ]
  },
  {
   "cell_type": "code",
   "execution_count": 11,
   "metadata": {},
   "outputs": [
    {
     "name": "stdout",
     "output_type": "stream",
     "text": [
      "259\n",
      "0\n",
      "\n",
      "basic level questionasic level questiongood morning haii everyonegood morning haii everyonegood morning haii everyone\n",
      "good morning haii everyonegood byegood byegood byegood byegood bye\n",
      "good morning haii everyone\n",
      "good morning haii everyonegood byegood bye\n",
      "259\n",
      "267\n",
      "\n",
      "basic level questionasic level questiongood morning haii everyonegood morning haii everyonegood morning haii everyone\n",
      "good morning haii everyonegood byegood byegood byegood byegood bye\n",
      "good morning haii everyone\n",
      "good morning haii everyonegood byegood byegood bye\n",
      "267\n"
     ]
    }
   ],
   "source": [
    "fp=open(\"file1.txt\",\"a+\")\n",
    "print(fp.tell())\n",
    "fp.seek(0)\n",
    "print(fp.tell())\n",
    "res=fp.read()\n",
    "print(res)\n",
    "print(fp.tell())\n",
    "fp.write(\"good bye\")\n",
    "print(fp.tell())\n",
    "fp.seek(0)\n",
    "res=fp.read()\n",
    "print(res)\n",
    "print(fp.tell())\n",
    "fp.close()"
   ]
  },
  {
   "cell_type": "code",
   "execution_count": 14,
   "metadata": {},
   "outputs": [],
   "source": [
    "fp=open(\"file2.txt\",\"w\")\n",
    "data=\"good morning friends\\n,good after noon\\n,good evening friends\"\n",
    "fp.write(data)\n",
    "fp.close()\n"
   ]
  },
  {
   "cell_type": "code",
   "execution_count": 18,
   "metadata": {},
   "outputs": [
    {
     "name": "stdout",
     "output_type": "stream",
     "text": [
      "0\n",
      "good morning friends\n",
      ",good after noon\n",
      ",good evening friends\n",
      "61\n"
     ]
    }
   ],
   "source": [
    "fp=open(\"file2.txt\",\"w+\")\n",
    "data=\"good morning friends\\n,good after noon\\n,good evening friends\"\n",
    "fp.write(data)\n",
    "fp.seek(0)\n",
    "print(fp.tell())\n",
    "res=fp.read()\n",
    "print(res)\n",
    "print(fp.tell())\n",
    "fp.close()\n"
   ]
  },
  {
   "cell_type": "code",
   "execution_count": 19,
   "metadata": {},
   "outputs": [
    {
     "name": "stdout",
     "output_type": "stream",
     "text": [
      "good morning friends\n",
      ",good after noon\n",
      ",good evening friends\n"
     ]
    }
   ],
   "source": [
    "fp=open(\"file2.txt\",\"r\")\n",
    "res=fp.read()\n",
    "print(res)\n",
    "fp.close()\n"
   ]
  }
 ],
 "metadata": {
  "kernelspec": {
   "display_name": "Python 3",
   "language": "python",
   "name": "python3"
  },
  "language_info": {
   "codemirror_mode": {
    "name": "ipython",
    "version": 3
   },
   "file_extension": ".py",
   "mimetype": "text/x-python",
   "name": "python",
   "nbconvert_exporter": "python",
   "pygments_lexer": "ipython3",
   "version": "3.11.3"
  },
  "orig_nbformat": 4
 },
 "nbformat": 4,
 "nbformat_minor": 2
}
