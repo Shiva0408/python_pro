{
 "cells": [
  {
   "cell_type": "code",
   "execution_count": 1,
   "metadata": {},
   "outputs": [
    {
     "data": {
      "text/plain": [
       "'SHIVAshiva123.$ *'"
      ]
     },
     "execution_count": 1,
     "metadata": {},
     "output_type": "execute_result"
    }
   ],
   "source": [
    "def swap_case(s):\n",
    "    start=0\n",
    "    res=\"\"\n",
    "    while start<len(s):\n",
    "        if \"0\"<=s[start]<=\"9\":\n",
    "            res+=s[start]\n",
    "        elif not((\"A\"<=s[start]<=\"Z\") or (\"a\"<=s[start]<=\"z\") or(\"0\"<=s[start]<=\"9\")):\n",
    "            res+=s[start]\n",
    "        elif s[start]==\" \":\n",
    "            res+=s[start]\n",
    "        elif not((\"A\"<=s[start]<=\"Z\")):\n",
    "            res+=chr(ord(s[start])-32)\n",
    "        elif not((\"a\"<=s[start]<=\"z\")):\n",
    "            res+=chr(ord(s[start])+32)\n",
    "        start+=1\n",
    "    return res\n",
    "swap_case(\"shivaSHIVA123.$ *\")"
   ]
  },
  {
   "cell_type": "code",
   "execution_count": 17,
   "metadata": {},
   "outputs": [
    {
     "data": {
      "text/plain": [
       "'shiva-narayana-rao'"
      ]
     },
     "execution_count": 17,
     "metadata": {},
     "output_type": "execute_result"
    }
   ],
   "source": [
    "def function(st):\n",
    "    a=st\n",
    "    a=a.split(\" \")#split the sequence of character by using .split()\n",
    "    a1=\"-\".join(a)#join the sequence of character by using .join()\n",
    "    return a1\n",
    "function(\"shiva narayana rao\")"
   ]
  },
  {
   "cell_type": "code",
   "execution_count": 34,
   "metadata": {},
   "outputs": [
    {
     "data": {
      "text/plain": [
       "'hello shiva naraynan! You just delved into python'"
      ]
     },
     "execution_count": 34,
     "metadata": {},
     "output_type": "execute_result"
    }
   ],
   "source": [
    "def function(first,second):\n",
    "    start=0\n",
    "    start1=0\n",
    "    a=\"hello\"\n",
    "    b=\"! You just delved into python\"\n",
    "    res=\"\"\n",
    "    res1=\"\"\n",
    "    while start<len(first):\n",
    "        res+=first[start]\n",
    "        start+=1\n",
    "    while start1<len(second):\n",
    "        res1+=second[start1]\n",
    "        start1+=1\n",
    "    ans=a[0:len(a)]+\" \"+res+\" \"+res1+b[0:len(b)]\n",
    "    return(ans)\n",
    "function(\"shiva\",\"naraynan\")    "
   ]
  },
  {
   "cell_type": "code",
   "execution_count": 7,
   "metadata": {},
   "outputs": [
    {
     "name": "stdout",
     "output_type": "stream",
     "text": [
      "['this', 'is', 'a', 'string']\n"
     ]
    }
   ],
   "source": [
    "a = \"this is a string\"\n",
    "a = a.split(\" \") # a is converted to a list of strings. \n",
    "print(a)"
   ]
  },
  {
   "cell_type": "code",
   "execution_count": 38,
   "metadata": {},
   "outputs": [
    {
     "data": {
      "text/plain": [
       "'Hello shiva narayana! You just delved into python'"
      ]
     },
     "execution_count": 38,
     "metadata": {},
     "output_type": "execute_result"
    }
   ],
   "source": [
    "def print_full_name(first, last):\n",
    "    start=0\n",
    "    start1=0\n",
    "    a=\"Hello\"\n",
    "    b=\"! You just delved into python\"\n",
    "    res=\"\"\n",
    "    res1=\"\"\n",
    "    ans=a[0:len(a)]+\" \"+first+\" \"+last+b[0:len(b)]\n",
    "    return(ans)\n",
    "print_full_name(\"shiva\",\"narayana\")"
   ]
  }
 ],
 "metadata": {
  "kernelspec": {
   "display_name": "Python 3",
   "language": "python",
   "name": "python3"
  },
  "language_info": {
   "codemirror_mode": {
    "name": "ipython",
    "version": 3
   },
   "file_extension": ".py",
   "mimetype": "text/x-python",
   "name": "python",
   "nbconvert_exporter": "python",
   "pygments_lexer": "ipython3",
   "version": "3.11.3"
  },
  "orig_nbformat": 4
 },
 "nbformat": 4,
 "nbformat_minor": 2
}
