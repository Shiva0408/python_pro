{
 "cells": [
  {
   "cell_type": "code",
   "execution_count": 1,
   "metadata": {},
   "outputs": [
    {
     "data": {
      "text/plain": [
       "'SHIVAshiva123.$ *'"
      ]
     },
     "execution_count": 1,
     "metadata": {},
     "output_type": "execute_result"
    }
   ],
   "source": [
    "def swap_case(s):\n",
    "    start=0\n",
    "    res=\"\"\n",
    "    while start<len(s):\n",
    "        if \"0\"<=s[start]<=\"9\":\n",
    "            res+=s[start]\n",
    "        elif not((\"A\"<=s[start]<=\"Z\") or (\"a\"<=s[start]<=\"z\") or(\"0\"<=s[start]<=\"9\")):\n",
    "            res+=s[start]\n",
    "        elif s[start]==\" \":\n",
    "            res+=s[start]\n",
    "        elif not((\"A\"<=s[start]<=\"Z\")):\n",
    "            res+=chr(ord(s[start])-32)\n",
    "        elif not((\"a\"<=s[start]<=\"z\")):\n",
    "            res+=chr(ord(s[start])+32)\n",
    "        start+=1\n",
    "    return res\n",
    "swap_case(\"shivaSHIVA123.$ *\")"
   ]
  },
  {
   "cell_type": "code",
   "execution_count": 17,
   "metadata": {},
   "outputs": [
    {
     "data": {
      "text/plain": [
       "'shiva-narayana-rao'"
      ]
     },
     "execution_count": 17,
     "metadata": {},
     "output_type": "execute_result"
    }
   ],
   "source": [
    "def function(st):\n",
    "    a=st\n",
    "    a=a.split(\" \")#split the sequence of character by using .split()\n",
    "    a1=\"-\".join(a)#join the sequence of character by using .join()\n",
    "    return a1\n",
    "function(\"shiva narayana rao\")"
   ]
  },
  {
   "cell_type": "code",
   "execution_count": 34,
   "metadata": {},
   "outputs": [
    {
     "data": {
      "text/plain": [
       "'hello shiva naraynan! You just delved into python'"
      ]
     },
     "execution_count": 34,
     "metadata": {},
     "output_type": "execute_result"
    }
   ],
   "source": [
    "def function(first,second):\n",
    "    start=0\n",
    "    start1=0\n",
    "    a=\"hello\"\n",
    "    b=\"! You just delved into python\"\n",
    "    res=\"\"\n",
    "    res1=\"\"\n",
    "    while start<len(first):\n",
    "        res+=first[start]\n",
    "        start+=1\n",
    "    while start1<len(second):\n",
    "        res1+=second[start1]\n",
    "        start1+=1\n",
    "    ans=a[0:len(a)]+\" \"+res+\" \"+res1+b[0:len(b)]\n",
    "    return(ans)\n",
    "function(\"shiva\",\"naraynan\")    "
   ]
  },
  {
   "cell_type": "code",
   "execution_count": 7,
   "metadata": {},
   "outputs": [
    {
     "name": "stdout",
     "output_type": "stream",
     "text": [
      "['this', 'is', 'a', 'string']\n"
     ]
    }
   ],
   "source": [
    "a = \"this is a string\"\n",
    "a = a.split(\" \") # a is converted to a list of strings. \n",
    "print(a)"
   ]
  },
  {
   "cell_type": "code",
   "execution_count": 38,
   "metadata": {},
   "outputs": [
    {
     "data": {
      "text/plain": [
       "'Hello shiva narayana! You just delved into python'"
      ]
     },
     "execution_count": 38,
     "metadata": {},
     "output_type": "execute_result"
    }
   ],
   "source": [
    "def print_full_name(first, last):\n",
    "    start=0\n",
    "    start1=0\n",
    "    a=\"Hello\"\n",
    "    b=\"! You just delved into python\"\n",
    "    res=\"\"\n",
    "    res1=\"\"\n",
    "    ans=a[0:len(a)]+\" \"+first+\" \"+last+b[0:len(b)]\n",
    "    return(ans)\n",
    "print_full_name(\"shiva\",\"narayana\")"
   ]
  },
  {
   "cell_type": "code",
   "execution_count": 2,
   "metadata": {},
   "outputs": [
    {
     "data": {
      "text/plain": [
       "'shiga'"
      ]
     },
     "execution_count": 2,
     "metadata": {},
     "output_type": "execute_result"
    }
   ],
   "source": [
    "def string(str,pos,cha):\n",
    "    res=str[0:pos]+cha+str[pos+1:len(str)]\n",
    "    return res\n",
    "string(\"shiva\",3,\"g\")"
   ]
  },
  {
   "cell_type": "code",
   "execution_count": 18,
   "metadata": {},
   "outputs": [
    {
     "data": {
      "text/plain": [
       "8"
      ]
     },
     "execution_count": 18,
     "metadata": {},
     "output_type": "execute_result"
    }
   ],
   "source": [
    "def occerence(str,sub):\n",
    "    count=0\n",
    "    start=0\n",
    "    for start in range(len(sub)):\n",
    "        for start1 in range(len(str)):\n",
    "            if sub[start]==str[start1]:\n",
    "                count+=1\n",
    "            start1+=1\n",
    "        start+=1\n",
    "    return count\n",
    "occerence(\"ABCDCDC\",\"CDC\")"
   ]
  },
  {
   "cell_type": "code",
   "execution_count": 24,
   "metadata": {},
   "outputs": [
    {
     "name": "stdout",
     "output_type": "stream",
     "text": [
      "2\n"
     ]
    }
   ],
   "source": [
    "\"\"\"a  = input()\n",
    "b = input()\n",
    "sublen = len(b)\n",
    "c = \"\"\n",
    "count = 0\n",
    "for i in range(len(a)):\n",
    "    if a[i] in b:\n",
    "        if c!=b:\n",
    "            c+=a[i]\n",
    "            continue\n",
    "    if c==b:\n",
    "        count+=1 \n",
    "print(count)\"\"\"\n",
    "str=\"ABCDCDC\"\n",
    "sub=\"CDC\"\n",
    "s=0\n",
    "count=0\n",
    "while True:\n",
    "    index=str.find(sub,s)\n",
    "    if index==-1:\n",
    "        break\n",
    "    count+=1\n",
    "    s+=len(sub)\n",
    "print(count)"
   ]
  },
  {
   "cell_type": "code",
   "execution_count": 30,
   "metadata": {},
   "outputs": [
    {
     "name": "stdout",
     "output_type": "stream",
     "text": [
      "index 0\n",
      "s_I 2\n",
      "index 7\n",
      "s_I 11\n",
      "index -1\n",
      "2\n"
     ]
    }
   ],
   "source": [
    "a = input()\n",
    "b = input()\n",
    "s_i = 0\n",
    "count = 0\n",
    "while True:\n",
    "    \n",
    "    index = a.find(b,s_i)\n",
    "    print(\"index\",index)\n",
    "    if index == -1:\n",
    "        break\n",
    "    count+=1 \n",
    "    s_i +=index+ len(b)\n",
    "    print( \"s_I\",s_i)\n",
    "print(count)"
   ]
  },
  {
   "cell_type": "code",
   "execution_count": 13,
   "metadata": {},
   "outputs": [
    {
     "ename": "KeyboardInterrupt",
     "evalue": "",
     "output_type": "error",
     "traceback": [
      "\u001b[1;31m---------------------------------------------------------------------------\u001b[0m",
      "\u001b[1;31mKeyboardInterrupt\u001b[0m                         Traceback (most recent call last)",
      "Cell \u001b[1;32mIn[13], line 10\u001b[0m\n\u001b[0;32m      6\u001b[0m end1\u001b[39m=\u001b[39m(\u001b[39mlen\u001b[39m(arr)\u001b[39m-\u001b[39m\u001b[39m1\u001b[39m)\n\u001b[0;32m      7\u001b[0m \u001b[39m\"\"\"for start in range(end):\u001b[39;00m\n\u001b[0;32m      8\u001b[0m \u001b[39m    sum+=arr[start]\u001b[39;00m\n\u001b[0;32m      9\u001b[0m \u001b[39mprint(sum)\"\"\"\u001b[39;00m\n\u001b[1;32m---> 10\u001b[0m \u001b[39mwhile\u001b[39;00m end1\u001b[39m>\u001b[39m\u001b[39m=\u001b[39mstart:\n\u001b[0;32m     11\u001b[0m     sum1\u001b[39m+\u001b[39m\u001b[39m=\u001b[39marr[end1]\n\u001b[0;32m     12\u001b[0m     end\u001b[39m-\u001b[39m\u001b[39m=\u001b[39m\u001b[39m1\u001b[39m\n",
      "\u001b[1;31mKeyboardInterrupt\u001b[0m: "
     ]
    }
   ],
   "source": [
    "arr=[3,8,14,12,10,7,4]\n",
    "start=0\n",
    "sum=0\n",
    "sum1=0\n",
    "end=len(arr)//2\n",
    "end1=(len(arr)-1)\n",
    "\"\"\"for start in range(end):\n",
    "    sum+=arr[start]\n",
    "print(sum)\"\"\"\n",
    "while end1>=start:\n",
    "    sum1+=arr[end1]\n",
    "    end-=1\n",
    "print(sum1)\n",
    "    \n"
   ]
  },
  {
   "cell_type": "code",
   "execution_count": 18,
   "metadata": {},
   "outputs": [
    {
     "name": "stdout",
     "output_type": "stream",
     "text": [
      "1175\n"
     ]
    }
   ],
   "source": [
    "def product(arr):\n",
    "    i=0\n",
    "    l=len(arr)\n",
    "    sa=0\n",
    "    sd=0\n",
    "    while i<l-1 and arr[i]<arr[i+1]:\n",
    "        sa+=arr[i]\n",
    "        i+=1\n",
    "    sa+=arr[i]\n",
    "    while i<l-1 and arr[i]>arr[i+1]:\n",
    "        sd+=arr[i]\n",
    "        i+=1\n",
    "    sd+=arr[i]\n",
    "    return sa*sd\n",
    "print(product([3,8,14,12,10,7,4]))"
   ]
  }
 ],
 "metadata": {
  "kernelspec": {
   "display_name": "Python 3",
   "language": "python",
   "name": "python3"
  },
  "language_info": {
   "codemirror_mode": {
    "name": "ipython",
    "version": 3
   },
   "file_extension": ".py",
   "mimetype": "text/x-python",
   "name": "python",
   "nbconvert_exporter": "python",
   "pygments_lexer": "ipython3",
   "version": "3.11.3"
  },
  "orig_nbformat": 4
 },
 "nbformat": 4,
 "nbformat_minor": 2
}
