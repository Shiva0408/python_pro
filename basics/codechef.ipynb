{
 "cells": [
  {
   "cell_type": "code",
   "execution_count": 38,
   "metadata": {},
   "outputs": [
    {
     "name": "stdout",
     "output_type": "stream",
     "text": [
      "BBGBB\n"
     ]
    }
   ],
   "source": [
    "a=\"ABCDE\"\n",
    "b=\"EDCBA\"\n",
    "start=0\n",
    "end=len(a)\n",
    "end1=len(b)\n",
    "res=\"\"\n",
    "while start<end:\n",
    "    while start<end1:\n",
    "        if a[start] == b[start]:\n",
    "            res+=\"G\"\n",
    "        else:\n",
    "            res+=\"B\" \n",
    "        start+=1\n",
    "          \n",
    "print(res)"
   ]
  },
  {
   "cell_type": "code",
   "execution_count": 3,
   "metadata": {},
   "outputs": [
    {
     "ename": "KeyboardInterrupt",
     "evalue": "",
     "output_type": "error",
     "traceback": [
      "\u001b[1;31m---------------------------------------------------------------------------\u001b[0m",
      "\u001b[1;31mKeyboardInterrupt\u001b[0m                         Traceback (most recent call last)",
      "Cell \u001b[1;32mIn[3], line 12\u001b[0m\n\u001b[0;32m     10\u001b[0m \u001b[39mwhile\u001b[39;00m start\u001b[39m<\u001b[39mend:\n\u001b[0;32m     11\u001b[0m     start1\u001b[39m=\u001b[39m\u001b[39m0\u001b[39m\n\u001b[1;32m---> 12\u001b[0m     \u001b[39mwhile\u001b[39;00m start1\u001b[39m<\u001b[39mend1:\n\u001b[0;32m     13\u001b[0m         \u001b[39mif\u001b[39;00m a[start1] \u001b[39m==\u001b[39m b[start1]:\n\u001b[0;32m     14\u001b[0m             res\u001b[39m+\u001b[39m\u001b[39m=\u001b[39m\u001b[39m\"\u001b[39m\u001b[39mG\u001b[39m\u001b[39m\"\u001b[39m\n",
      "\u001b[1;31mKeyboardInterrupt\u001b[0m: "
     ]
    }
   ],
   "source": [
    "t=int(input())\n",
    "a=input()\n",
    "b=input()\n",
    "start=0\n",
    "\n",
    "end=len(a)\n",
    "end1=len(b)\n",
    "res=\"\"\n",
    "for i in range(t):\n",
    "    while start<end:\n",
    "        start1=0\n",
    "        while start1<end1:\n",
    "            if a[start1] == b[start1]:\n",
    "                res+=\"G\"\n",
    "            else:\n",
    "                res+=\"B\"\n",
    "            start+=1\n",
    "        start1+=1\n",
    "print(res)   "
   ]
  }
 ],
 "metadata": {
  "kernelspec": {
   "display_name": "Python 3",
   "language": "python",
   "name": "python3"
  },
  "language_info": {
   "codemirror_mode": {
    "name": "ipython",
    "version": 3
   },
   "file_extension": ".py",
   "mimetype": "text/x-python",
   "name": "python",
   "nbconvert_exporter": "python",
   "pygments_lexer": "ipython3",
   "version": "3.11.3"
  },
  "orig_nbformat": 4
 },
 "nbformat": 4,
 "nbformat_minor": 2
}
