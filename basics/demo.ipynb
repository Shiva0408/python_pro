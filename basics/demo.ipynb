{
 "cells": [
  {
   "cell_type": "code",
   "execution_count": 12,
   "metadata": {},
   "outputs": [
    {
     "name": "stdout",
     "output_type": "stream",
     "text": [
      "S\n",
      "N\n",
      "Y\n"
     ]
    }
   ],
   "source": [
    "#WAP to extract upper case charactersfrom given string\n",
    "x=\"Shiva NaraYana\"\n",
    "start=0\n",
    "end=len(x)\n",
    "while start<end:\n",
    "    if \"A\"<=x[start]<=\"Z\":\n",
    "        print(x[start])\n",
    "    start+=1\n",
    "    \n"
   ]
  },
  {
   "cell_type": "code",
   "execution_count": null,
   "metadata": {},
   "outputs": [],
   "source": [
    "#WAP to extract upper case charactersfrom given string\n",
    "x=\"Shiva NaraYana\"\n",
    "start=0\n",
    "end=len(x)\n",
    "while start<end:\n",
    "    if \"A\"<=x[start]<=\"Z\":\n",
    "        print(x[start])\n",
    "    start+=1\n",
    "    "
   ]
  },
  {
   "cell_type": "code",
   "execution_count": null,
   "metadata": {},
   "outputs": [],
   "source": [
    "#WAP to extract lower case charactersfrom given string\n",
    "x=\"Shiva NaraYana\"\n",
    "start=0\n",
    "end=len(x)\n",
    "while start<end:\n",
    "    if \"a\"<=x[start]<=\"z\":\n",
    "        print(x[start])\n",
    "    start+=1"
   ]
  },
  {
   "cell_type": "code",
   "execution_count": null,
   "metadata": {},
   "outputs": [],
   "source": [
    "#WAP to extract lower case charactersfrom given string\n",
    "x=\"Shiva NaraYana\"\n",
    "start=0\n",
    "end=len(x)\n",
    "while start<end:\n",
    "    if \"a\"<=x[start]<=\"z\":\n",
    "        print(x[start])\n",
    "    start+=1"
   ]
  },
  {
   "cell_type": "code",
   "execution_count": 21,
   "metadata": {},
   "outputs": [
    {
     "name": "stdout",
     "output_type": "stream",
     "text": [
      "@\n",
      "#\n"
     ]
    }
   ],
   "source": [
    "#WAP to extract special characters\n",
    "x=input()\n",
    "start=0\n",
    "end=len(x)\n",
    "while start<end:\n",
    "    if not( (\"a\"<=x[start]<=\"z\") or (\"A\"<=x[start]<=\"Z\") or (\"0\"<=x[start]<=\"9\")):\n",
    "        print(x[start])\n",
    "    start+=1\n"
   ]
  },
  {
   "cell_type": "code",
   "execution_count": 27,
   "metadata": {},
   "outputs": [],
   "source": [
    "#WAP to extract special characters from ovels\n",
    "x=input()\n",
    "start=0\n",
    "end=len(x)\n",
    "while start<end:\n",
    "    if (x[start] in 'A,E,I,O,U') or (x[start] in 'a,e,i,o,u'):\n",
    "        print(x[start])\n",
    "    start+=1\n",
    "\n",
    "        "
   ]
  },
  {
   "cell_type": "code",
   "execution_count": null,
   "metadata": {},
   "outputs": [],
   "source": [
    "#WAP to extract special characters from ovels and store the value\n",
    "x=input()\n",
    "start=0\n",
    "end=len(x)\n",
    "res=\"\"\n",
    "while start<end:\n",
    "    if (x[start] in 'A,E,I,O,U') or (x[start] in 'a,e,i,o,u'):\n",
    "        res+=x[start]\n",
    "    start+=1+\n",
    "print(res)"
   ]
  },
  {
   "cell_type": "code",
   "execution_count": 1,
   "metadata": {},
   "outputs": [
    {
     "name": "stdout",
     "output_type": "stream",
     "text": [
      "shv\n"
     ]
    }
   ],
   "source": [
    "#WAP eliminate the vowels from the given string\n",
    "x=input()\n",
    "start=0\n",
    "end=len(x)\n",
    "res=\"\"\n",
    "while start<end:\n",
    "    if not((x[start] in 'A,E,I,O,U') or (x[start] in 'a,e,i,o,u')):\n",
    "        res+=x[start]\n",
    "    start+=1\n",
    "print(res)        "
   ]
  },
  {
   "cell_type": "code",
   "execution_count": 9,
   "metadata": {},
   "outputs": [
    {
     "name": "stdout",
     "output_type": "stream",
     "text": [
      "9\n"
     ]
    }
   ],
   "source": [
    "#count the upper case characters\n",
    "st=\"Shiva NARAYANA\"\n",
    "start=0\n",
    "end=len(st)\n",
    "count=0\n",
    "while start<len(st):\n",
    "    if \"A\"<=st[start]<=\"Z\":\n",
    "        count=count+1\n",
    "    start+=1\n",
    "print(count)\n",
    "        "
   ]
  },
  {
   "cell_type": "code",
   "execution_count": 11,
   "metadata": {},
   "outputs": [
    {
     "name": "stdout",
     "output_type": "stream",
     "text": [
      "1\n",
      "3\n",
      "6\n",
      "10\n",
      "15\n"
     ]
    }
   ],
   "source": [
    "#WAP to print sum of the digit given string and find sum is divisible by 5 or not if it is divisible by 5 to check its is a prime number or not\n",
    "st=\"shiva12345\"\n",
    "start=0\n",
    "end=len(st)\n",
    "sum=0\n",
    "while start<len(st):\n",
    "    if \"0\"<=st[start]<=\"9\":\n",
    "        sum=sum+int(st[start])\n",
    "        print(sum)\n",
    "    start+=1\n",
    "if sum%5==0:\n",
    "    \n"
   ]
  },
  {
   "cell_type": "code",
   "execution_count": 13,
   "metadata": {},
   "outputs": [
    {
     "name": "stdout",
     "output_type": "stream",
     "text": [
      "[2, 4]\n"
     ]
    }
   ],
   "source": [
    "#WAP to extract even values from given list\n",
    "l=[1,2,3,4,5]\n",
    "start=0\n",
    "end=len(l)\n",
    "lis=[]\n",
    "while start<len(l):\n",
    "    if l[start]%2==0:\n",
    "        lis+=[l[start]]\n",
    "    start+=1\n",
    "print(lis)\n",
    "        \n",
    "        "
   ]
  },
  {
   "cell_type": "code",
   "execution_count": 26,
   "metadata": {},
   "outputs": [
    {
     "name": "stdout",
     "output_type": "stream",
     "text": [
      "[1, 2, 3, 3.5, 5.6] ['@', '#']\n"
     ]
    }
   ],
   "source": [
    "#WAP to segrigate the values from list\n",
    "l=[1,2,3,3.5,5.6,'@','#']\n",
    "start=0\n",
    "end=len(l)\n",
    "res=[]\n",
    "res1=[]\n",
    "while start<end:\n",
    "    if  type(l[start]) in (int,float):\n",
    "        res=res+[l[start]]\n",
    "    elif not(\"a\"<=l[start]<=\"z\") or (\"A\"<=l[start]<=\"Z\") or (\"0\"<=l[start]<=9):\n",
    "        res1=res1+[l[start]]\n",
    "    start+=1\n",
    "print(res,res1)\n",
    "        \n",
    " "
   ]
  },
  {
   "cell_type": "code",
   "execution_count": 47,
   "metadata": {},
   "outputs": [
    {
     "name": "stdout",
     "output_type": "stream",
     "text": [
      "['+', '-', '*'] ['10', '1020', '102010']\n"
     ]
    }
   ],
   "source": [
    "s=\"10+20-10*2\"\n",
    "start=0\n",
    "end=len(s)\n",
    "st=\"\"\n",
    "res=[]\n",
    "res1=[]\n",
    "while start<end:\n",
    "    if \"0\"<=s[start]<=\"9\":\n",
    "        st+=s[start]\n",
    "    elif not((\"a\"<=s[start]<=\"z\") or (\"A\"<=s[start]<=\"Z\")):\n",
    "        res1+=[st]\n",
    "        #st=\"\"\n",
    "        res+=[s[start]]\n",
    "    start+=1\n",
    "print(res,res1)\n",
    "        \n",
    "        \n",
    "        "
   ]
  },
  {
   "cell_type": "code",
   "execution_count": null,
   "metadata": {},
   "outputs": [],
   "source": [
    "s=\"10+20-10*2\"\n",
    "start=0\n",
    "end=len(s)\n",
    "st=\"\"\n",
    "res=[]\n",
    "res1=[]\n",
    "while start<end:\n",
    "    if "
   ]
  }
 ],
 "metadata": {
  "kernelspec": {
   "display_name": "Python 3",
   "language": "python",
   "name": "python3"
  },
  "language_info": {
   "codemirror_mode": {
    "name": "ipython",
    "version": 3
   },
   "file_extension": ".py",
   "mimetype": "text/x-python",
   "name": "python",
   "nbconvert_exporter": "python",
   "pygments_lexer": "ipython3",
   "version": "3.11.3"
  },
  "orig_nbformat": 4
 },
 "nbformat": 4,
 "nbformat_minor": 2
}
