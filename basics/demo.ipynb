{
 "cells": [
  {
   "cell_type": "code",
   "execution_count": 12,
   "metadata": {},
   "outputs": [
    {
     "name": "stdout",
     "output_type": "stream",
     "text": [
      "S\n",
      "N\n",
      "Y\n"
     ]
    }
   ],
   "source": [
    "#WAP to extract upper case charactersfrom given string\n",
    "x=\"Shiva NaraYana\"\n",
    "start=0\n",
    "end=len(x)\n",
    "while start<end:\n",
    "    if \"A\"<=x[start]<=\"Z\":\n",
    "        print(x[start])\n",
    "    start+=1\n",
    "    \n"
   ]
  },
  {
   "cell_type": "code",
   "execution_count": null,
   "metadata": {},
   "outputs": [],
   "source": [
    "#WAP to extract upper case charactersfrom given string\n",
    "x=\"Shiva NaraYana\"\n",
    "start=0\n",
    "end=len(x)\n",
    "while start<end:\n",
    "    if \"A\"<=x[start]<=\"Z\":\n",
    "        print(x[start])\n",
    "    start+=1\n",
    "    "
   ]
  },
  {
   "cell_type": "code",
   "execution_count": null,
   "metadata": {},
   "outputs": [],
   "source": [
    "#WAP to extract lower case charactersfrom given string\n",
    "x=\"Shiva NaraYana\"\n",
    "start=0\n",
    "end=len(x)\n",
    "while start<end:\n",
    "    if \"a\"<=x[start]<=\"z\":\n",
    "        print(x[start])\n",
    "    start+=1"
   ]
  },
  {
   "cell_type": "code",
   "execution_count": null,
   "metadata": {},
   "outputs": [],
   "source": [
    "#WAP to extract lower case charactersfrom given string\n",
    "x=\"Shiva NaraYana\"\n",
    "start=0\n",
    "end=len(x)\n",
    "while start<end:\n",
    "    if \"a\"<=x[start]<=\"z\":\n",
    "        print(x[start])\n",
    "    start+=1"
   ]
  },
  {
   "cell_type": "code",
   "execution_count": 21,
   "metadata": {},
   "outputs": [
    {
     "name": "stdout",
     "output_type": "stream",
     "text": [
      "@\n",
      "#\n"
     ]
    }
   ],
   "source": [
    "#WAP to extract special characters\n",
    "x=input()\n",
    "start=0\n",
    "end=len(x)\n",
    "while start<end:\n",
    "    if not( (\"a\"<=x[start]<=\"z\") or (\"A\"<=x[start]<=\"Z\") or (\"0\"<=x[start]<=\"9\")):\n",
    "        print(x[start])\n",
    "    start+=1\n"
   ]
  },
  {
   "cell_type": "code",
   "execution_count": 27,
   "metadata": {},
   "outputs": [],
   "source": [
    "#WAP to extract special characters from ovels\n",
    "x=input()\n",
    "start=0\n",
    "end=len(x)\n",
    "while start<end:\n",
    "    if (x[start] in 'A,E,I,O,U') or (x[start] in 'a,e,i,o,u'):\n",
    "        print(x[start])\n",
    "    start+=1\n",
    "\n",
    "        "
   ]
  },
  {
   "cell_type": "code",
   "execution_count": null,
   "metadata": {},
   "outputs": [],
   "source": [
    "#WAP to extract special characters from ovels and store the value\n",
    "x=input()\n",
    "start=0\n",
    "end=len(x)\n",
    "res=\"\"\n",
    "while start<end:\n",
    "    if (x[start] in 'A,E,I,O,U') or (x[start] in 'a,e,i,o,u'):\n",
    "        res+=x[start]\n",
    "    start+=1+\n",
    "print(res)"
   ]
  },
  {
   "cell_type": "code",
   "execution_count": 1,
   "metadata": {},
   "outputs": [
    {
     "name": "stdout",
     "output_type": "stream",
     "text": [
      "shv\n"
     ]
    }
   ],
   "source": [
    "#WAP eliminate the vowels from the given string\n",
    "x=input()\n",
    "start=0\n",
    "end=len(x)\n",
    "res=\"\"\n",
    "while start<end:\n",
    "    if not((x[start] in 'A,E,I,O,U') or (x[start] in 'a,e,i,o,u')):\n",
    "        res+=x[start]\n",
    "    start+=1\n",
    "print(res)        "
   ]
  }
 ],
 "metadata": {
  "kernelspec": {
   "display_name": "Python 3",
   "language": "python",
   "name": "python3"
  },
  "language_info": {
   "codemirror_mode": {
    "name": "ipython",
    "version": 3
   },
   "file_extension": ".py",
   "mimetype": "text/x-python",
   "name": "python",
   "nbconvert_exporter": "python",
   "pygments_lexer": "ipython3",
   "version": "3.11.3"
  },
  "orig_nbformat": 4
 },
 "nbformat": 4,
 "nbformat_minor": 2
}
