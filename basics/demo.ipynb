{
 "cells": [
  {
   "cell_type": "code",
   "execution_count": 12,
   "metadata": {},
   "outputs": [
    {
     "name": "stdout",
     "output_type": "stream",
     "text": [
      "S\n",
      "N\n",
      "Y\n"
     ]
    }
   ],
   "source": [
    "#WAP to extract upper case charactersfrom given string\n",
    "x=\"Shiva NaraYana\"\n",
    "start=0\n",
    "end=len(x)\n",
    "while start<end:\n",
    "    if \"A\"<=x[start]<=\"Z\":\n",
    "        print(x[start])\n",
    "    start+=1\n",
    "    \n"
   ]
  },
  {
   "cell_type": "code",
   "execution_count": null,
   "metadata": {},
   "outputs": [],
   "source": [
    "#WAP to extract upper case charactersfrom given string\n",
    "x=\"Shiva NaraYana\"\n",
    "start=0\n",
    "end=len(x)\n",
    "while start<end:\n",
    "    if \"A\"<=x[start]<=\"Z\":\n",
    "        print(x[start])\n",
    "    start+=1\n",
    "    "
   ]
  },
  {
   "cell_type": "code",
   "execution_count": null,
   "metadata": {},
   "outputs": [],
   "source": [
    "#WAP to extract lower case charactersfrom given string\n",
    "x=\"Shiva NaraYana\"\n",
    "start=0\n",
    "end=len(x)\n",
    "while start<end:\n",
    "    if \"a\"<=x[start]<=\"z\":\n",
    "        print(x[start])\n",
    "    start+=1"
   ]
  },
  {
   "cell_type": "code",
   "execution_count": null,
   "metadata": {},
   "outputs": [],
   "source": [
    "#WAP to extract lower case charactersfrom given string\n",
    "x=\"Shiva NaraYana\"\n",
    "start=0\n",
    "end=len(x)\n",
    "while start<end:\n",
    "    if \"a\"<=x[start]<=\"z\":\n",
    "        print(x[start])\n",
    "    start+=1"
   ]
  },
  {
   "cell_type": "code",
   "execution_count": 21,
   "metadata": {},
   "outputs": [
    {
     "name": "stdout",
     "output_type": "stream",
     "text": [
      "@\n",
      "#\n"
     ]
    }
   ],
   "source": [
    "#WAP to extract special characters\n",
    "x=input()\n",
    "start=0\n",
    "end=len(x)\n",
    "while start<end:\n",
    "    if not( (\"a\"<=x[start]<=\"z\") or (\"A\"<=x[start]<=\"Z\") or (\"0\"<=x[start]<=\"9\")):\n",
    "        print(x[start])\n",
    "    start+=1\n"
   ]
  },
  {
   "cell_type": "code",
   "execution_count": 27,
   "metadata": {},
   "outputs": [],
   "source": [
    "#WAP to extract special characters from ovels\n",
    "x=input()\n",
    "start=0\n",
    "end=len(x)\n",
    "while start<end:\n",
    "    if (x[start] in 'A,E,I,O,U') or (x[start] in 'a,e,i,o,u'):\n",
    "        print(x[start])\n",
    "    start+=1\n",
    "\n",
    "        "
   ]
  },
  {
   "cell_type": "code",
   "execution_count": null,
   "metadata": {},
   "outputs": [],
   "source": [
    "#WAP to extract special characters from ovels and store the value\n",
    "x=input()\n",
    "start=0\n",
    "end=len(x)\n",
    "res=\"\"\n",
    "while start<end:\n",
    "    if (x[start] in 'A,E,I,O,U') or (x[start] in 'a,e,i,o,u'):\n",
    "        res+=x[start]\n",
    "    start+=1+\n",
    "print(res)"
   ]
  },
  {
   "cell_type": "code",
   "execution_count": 1,
   "metadata": {},
   "outputs": [
    {
     "name": "stdout",
     "output_type": "stream",
     "text": [
      "shv\n"
     ]
    }
   ],
   "source": [
    "#WAP eliminate the vowels from the given string\n",
    "x=input()\n",
    "start=0\n",
    "end=len(x)\n",
    "res=\"\"\n",
    "while start<end:\n",
    "    if not((x[start] in 'A,E,I,O,U') or (x[start] in 'a,e,i,o,u')):\n",
    "        res+=x[start]\n",
    "    start+=1\n",
    "print(res)        "
   ]
  },
  {
   "cell_type": "code",
   "execution_count": 9,
   "metadata": {},
   "outputs": [
    {
     "name": "stdout",
     "output_type": "stream",
     "text": [
      "9\n"
     ]
    }
   ],
   "source": [
    "#count the upper case characters\n",
    "st=\"Shiva NARAYANA\"\n",
    "start=0\n",
    "end=len(st)\n",
    "count=0\n",
    "while start<len(st):\n",
    "    if \"A\"<=st[start]<=\"Z\":\n",
    "        count=count+1\n",
    "    start+=1\n",
    "print(count)\n",
    "        "
   ]
  },
  {
   "cell_type": "code",
   "execution_count": 11,
   "metadata": {},
   "outputs": [
    {
     "name": "stdout",
     "output_type": "stream",
     "text": [
      "1\n",
      "3\n",
      "6\n",
      "10\n",
      "15\n"
     ]
    }
   ],
   "source": [
    "#WAP to print sum of the digit given string and find sum is divisible by 5 or not if it is divisible by 5 to check its is a prime number or not\n",
    "st=\"shiva12345\"\n",
    "start=0\n",
    "end=len(st)\n",
    "sum=0\n",
    "while start<len(st):\n",
    "    if \"0\"<=st[start]<=\"9\":\n",
    "        sum=sum+int(st[start])\n",
    "        print(sum)\n",
    "    start+=1\n",
    "if sum%5==0:\n",
    "    \n"
   ]
  },
  {
   "cell_type": "code",
   "execution_count": 13,
   "metadata": {},
   "outputs": [
    {
     "name": "stdout",
     "output_type": "stream",
     "text": [
      "[2, 4]\n"
     ]
    }
   ],
   "source": [
    "#WAP to extract even values from given list\n",
    "l=[1,2,3,4,5]\n",
    "start=0\n",
    "end=len(l)\n",
    "lis=[]\n",
    "while start<len(l):\n",
    "    if l[start]%2==0:\n",
    "        lis+=[l[start]]\n",
    "    start+=1\n",
    "print(lis)\n",
    "        \n",
    "        "
   ]
  },
  {
   "cell_type": "code",
   "execution_count": 26,
   "metadata": {},
   "outputs": [
    {
     "name": "stdout",
     "output_type": "stream",
     "text": [
      "[1, 2, 3, 3.5, 5.6] ['@', '#']\n"
     ]
    }
   ],
   "source": [
    "#WAP to segrigate the values from list\n",
    "l=[1,2,3,3.5,5.6,'@','#']\n",
    "start=0\n",
    "end=len(l)\n",
    "res=[]\n",
    "res1=[]\n",
    "while start<end:\n",
    "    if  type(l[start]) in (int,float):\n",
    "        res=res+[l[start]]\n",
    "    elif not(\"a\"<=l[start]<=\"z\") or (\"A\"<=l[start]<=\"Z\") or (\"0\"<=l[start]<=9):\n",
    "        res1=res1+[l[start]]\n",
    "    start+=1\n",
    "print(res,res1)\n",
    "        \n",
    " "
   ]
  },
  {
   "cell_type": "code",
   "execution_count": 47,
   "metadata": {},
   "outputs": [
    {
     "name": "stdout",
     "output_type": "stream",
     "text": [
      "['+', '-', '*'] ['10', '1020', '102010']\n"
     ]
    }
   ],
   "source": [
    "s=\"10+20-10*2\"\n",
    "start=0\n",
    "end=len(s)\n",
    "st=\"\"\n",
    "res=[]\n",
    "res1=[]\n",
    "while start<end:\n",
    "    if \"0\"<=s[start]<=\"9\":\n",
    "        st+=s[start]\n",
    "    elif not((\"a\"<=s[start]<=\"z\") or (\"A\"<=s[start]<=\"Z\")):\n",
    "        res1+=[st]\n",
    "        #st=\"\"\n",
    "        res+=[s[start]]\n",
    "    start+=1\n",
    "print(res,res1)\n",
    "        \n",
    "        \n",
    "        "
   ]
  },
  {
   "cell_type": "code",
   "execution_count": null,
   "metadata": {},
   "outputs": [],
   "source": [
    "s=\"10+20-10*2\"\n",
    "start=0\n",
    "end=len(s)\n",
    "st=\"\"\n",
    "res=[]\n",
    "res1=[]\n",
    "while start<end:\n",
    "    if "
   ]
  },
  {
   "cell_type": "code",
   "execution_count": 8,
   "metadata": {},
   "outputs": [
    {
     "name": "stdout",
     "output_type": "stream",
     "text": [
      "9\n"
     ]
    }
   ],
   "source": [
    "num=5643\n",
    "s=0\n",
    "while num:\n",
    "    r=num%10\n",
    "    s+=r\n",
    "    num=num//10\n",
    "    if num==0:\n",
    "        if s>9:\n",
    "            num=s\n",
    "            s=0\n",
    "        else:\n",
    "            print(s)\n",
    "            break"
   ]
  },
  {
   "cell_type": "code",
   "execution_count": 13,
   "metadata": {},
   "outputs": [
    {
     "name": "stdout",
     "output_type": "stream",
     "text": [
      "8\n"
     ]
    }
   ],
   "source": [
    "n=8675\n",
    "sum=0\n",
    "t=n\n",
    "sum1=0\n",
    "while n:\n",
    "    res=n%10\n",
    "    sum+=res\n",
    "    n=n//10\n",
    "    if n==0:\n",
    "        if sum>9:\n",
    "            n=sum\n",
    "            sum=0\n",
    "        else:\n",
    "            print(sum)\n",
    "        \n",
    "        "
   ]
  },
  {
   "cell_type": "code",
   "execution_count": 15,
   "metadata": {},
   "outputs": [
    {
     "name": "stdout",
     "output_type": "stream",
     "text": [
      "shiva nry\n"
     ]
    }
   ],
   "source": [
    "#write a program to eliminate the duplicate charactes from given string\n",
    "#WAP to extract unique charactes  from given string \n",
    "\"\"\"membership operator\"\"\"\n",
    "s=\"shiva narayana\"\n",
    "start=0\n",
    "str=\"\"\n",
    "while start<len(s):\n",
    "    if s[start] not in str:\n",
    "        str+=s[start]\n",
    "    start+=1\n",
    "print(str)"
   ]
  },
  {
   "cell_type": "code",
   "execution_count": 17,
   "metadata": {},
   "outputs": [
    {
     "name": "stdout",
     "output_type": "stream",
     "text": [
      "shiva nry\n",
      "aaana\n"
     ]
    }
   ],
   "source": [
    "#to extract duplicate characters from given string\n",
    "s=\"shiva narayana\"\n",
    "start=0\n",
    "uni=\"\"\n",
    "dup=\"\"\n",
    "while start<len(s):\n",
    "    if s[start] not in uni:\n",
    "        uni+=s[start]\n",
    "    else:\n",
    "        dup+=s[start]\n",
    "    start+=1\n",
    "print(uni)\n",
    "print(dup)"
   ]
  },
  {
   "cell_type": "code",
   "execution_count": 1,
   "metadata": {},
   "outputs": [
    {
     "name": "stdout",
     "output_type": "stream",
     "text": [
      "shiva nry\n",
      "aaana\n"
     ]
    }
   ],
   "source": [
    "st=\"shiva narayana\"\n",
    "start=0\n",
    "uni=\"\"\n",
    "dup=\"\"\n",
    "while start<len(st):\n",
    "    if st[start] not in uni:\n",
    "        uni+=st[start]\n",
    "    else:\n",
    "        dup+=st[start]\n",
    "    start+=1\n",
    "print(uni)\n",
    "print(dup)\n",
    "        "
   ]
  },
  {
   "cell_type": "code",
   "execution_count": 25,
   "metadata": {},
   "outputs": [
    {
     "name": "stdout",
     "output_type": "stream",
     "text": [
      "9\n",
      "5\n"
     ]
    }
   ],
   "source": [
    "#WAP to count the duplicate characters from given string\n",
    "s=\"shiva narayana\"\n",
    "start=0\n",
    "uni=\"\"\n",
    "dup=\"\"\n",
    "count=0\n",
    "count1=0\n",
    "while start<len(s):\n",
    "    if s[start] not in uni:\n",
    "        uni+=s[start]\n",
    "        count+=1\n",
    "    else:\n",
    "        dup+=s[start]\n",
    "        count1+=1\n",
    "    start+=1\n",
    "print(count)\n",
    "print(count1)"
   ]
  },
  {
   "cell_type": "code",
   "execution_count": 26,
   "metadata": {},
   "outputs": [
    {
     "name": "stdout",
     "output_type": "stream",
     "text": [
      "HEWORLD\n"
     ]
    }
   ],
   "source": [
    "#without using in operator\n",
    "st=\"HELLOWORLD\"\n",
    "res=\"\"\n",
    "i=0\n",
    "while i<len(st):\n",
    "    count=0\n",
    "    j=i+1\n",
    "    while j<len(st):\n",
    "        if st[i]==st[j]:\n",
    "            count+=1\n",
    "        j+=1\n",
    "    if count==0:\n",
    "        res+=st[i]\n",
    "    i+=1\n",
    "print(res)"
   ]
  }
 ],
 "metadata": {
  "kernelspec": {
   "display_name": "Python 3",
   "language": "python",
   "name": "python3"
  },
  "language_info": {
   "codemirror_mode": {
    "name": "ipython",
    "version": 3
   },
   "file_extension": ".py",
   "mimetype": "text/x-python",
   "name": "python",
   "nbconvert_exporter": "python",
   "pygments_lexer": "ipython3",
   "version": "3.11.3"
  },
  "orig_nbformat": 4
 },
 "nbformat": 4,
 "nbformat_minor": 2
}
