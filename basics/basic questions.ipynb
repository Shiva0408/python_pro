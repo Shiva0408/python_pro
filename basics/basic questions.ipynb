{
 "cells": [
  {
   "cell_type": "code",
   "execution_count": 1,
   "metadata": {},
   "outputs": [
    {
     "name": "stdout",
     "output_type": "stream",
     "text": [
      "20\n",
      "10\n"
     ]
    }
   ],
   "source": [
    "#WAS to swap the two values. With a temp variable.\n",
    "a=10\n",
    "b=20\n",
    "temp=a\n",
    "a=b\n",
    "b=temp\n",
    "print(a)\n",
    "print(b)"
   ]
  },
  {
   "cell_type": "code",
   "execution_count": 10,
   "metadata": {},
   "outputs": [
    {
     "name": "stdout",
     "output_type": "stream",
     "text": [
      "20\n",
      "10\n"
     ]
    }
   ],
   "source": [
    "#WAS to swap the two values without temp variable \n",
    "a=10\n",
    "b=20\n",
    "a,b=b,a\n",
    "print(a)\n",
    "print(b)"
   ]
  },
  {
   "cell_type": "code",
   "execution_count": 15,
   "metadata": {},
   "outputs": [
    {
     "name": "stdout",
     "output_type": "stream",
     "text": [
      "['1', '0']\n"
     ]
    }
   ],
   "source": [
    "\"\"\"WAS to convert single to multi value data type\n",
    "I/p ⇒ a=10\n",
    "o/p ⇒ [‘1’,’0’]\"\"\"\n",
    "a=10\n",
    "res=str(a)\n",
    "print(list(res))"
   ]
  },
  {
   "cell_type": "code",
   "execution_count": 22,
   "metadata": {},
   "outputs": [
    {
     "name": "stdout",
     "output_type": "stream",
     "text": [
      "[10, 20, 's', 'h', 'i', 'v', 'a']\n",
      "(30, 40, 80, 90)\n",
      "[10, 20, 's', 'h', 'i', 'v', 'a', 30, 40, 80, 90]\n"
     ]
    }
   ],
   "source": [
    "#WAS to concat the two multi value data types(str , list, tuple, dict).\n",
    "str=\"shiva\"\n",
    "l=[10,20]\n",
    "t=(30,40)\n",
    "t1=(80,90)#only we can cancate tuple values\n",
    "dic={a:\"50\"}\n",
    "l+=str\n",
    "print(l)\n",
    "t+=t1\n",
    "print(t)\n",
    "l+=t\n",
    "print(l)"
   ]
  },
  {
   "cell_type": "code",
   "execution_count": 23,
   "metadata": {},
   "outputs": [
    {
     "name": "stdout",
     "output_type": "stream",
     "text": [
      "14\n"
     ]
    }
   ],
   "source": [
    "#WAC to perform  the length of the collection.\n",
    "str=\"shiva narayana\"\n",
    "print(len(str))"
   ]
  },
  {
   "cell_type": "code",
   "execution_count": 37,
   "metadata": {},
   "outputs": [
    {
     "data": {
      "text/plain": [
       "'a'"
      ]
     },
     "execution_count": 37,
     "metadata": {},
     "output_type": "execute_result"
    }
   ],
   "source": [
    "#WAC to find out the middle value of the given collection. \n",
    "\"\"\"str=\"shiva narayana\"\n",
    "start=0\n",
    "r=len(str)//2\n",
    "while start<r:\n",
    "    if start==r:\n",
    "        break\n",
    "    start+=1\n",
    "print(str[start])\"\"\"\n",
    "str=\"shiva narayana\"\n",
    "str[len(str)//2]\n",
    "\n"
   ]
  },
  {
   "cell_type": "code",
   "execution_count": 44,
   "metadata": {},
   "outputs": [
    {
     "data": {
      "text/plain": [
       "'shivanarayana'"
      ]
     },
     "execution_count": 44,
     "metadata": {},
     "output_type": "execute_result"
    }
   ],
   "source": [
    "#WAS to concat the new string into the starting of the given string.\n",
    "str=\"narayana\"\n",
    "str1=\"shiva\"\n",
    "str1[0:len(str1)]\n",
    "str[0:len(str)]\n",
    "str1[0:len(str1)]+str[0:len(str)]"
   ]
  },
  {
   "cell_type": "code",
   "execution_count": 45,
   "metadata": {},
   "outputs": [
    {
     "data": {
      "text/plain": [
       "'shivanarayanarao'"
      ]
     },
     "execution_count": 45,
     "metadata": {},
     "output_type": "execute_result"
    }
   ],
   "source": [
    "#WAS to concat the new string into the ending of the given string.\n",
    "str=\"shiva\"\n",
    "str1=\"narayana\"\n",
    "str2=\"rao\"\n",
    "str[0:len(str)]+str1[0:len(str1)]+str2[0:len(str2)]"
   ]
  },
  {
   "cell_type": "code",
   "execution_count": 51,
   "metadata": {},
   "outputs": [
    {
     "data": {
      "text/plain": [
       "'shiiiva'"
      ]
     },
     "execution_count": 51,
     "metadata": {},
     "output_type": "execute_result"
    }
   ],
   "source": [
    "#WAS to concat the new string into the middle of the given string.\n",
    "str=\"shiva\"\n",
    "str[0:2+1]+\"ii\"+str[3:4+1]"
   ]
  },
  {
   "cell_type": "code",
   "execution_count": 2,
   "metadata": {},
   "outputs": [
    {
     "name": "stdout",
     "output_type": "stream",
     "text": [
      "12345\n"
     ]
    }
   ],
   "source": [
    "#WAS to replace the old character into a new character of the given string.\n",
    "n=54321\n",
    "res=0\n",
    "while n:\n",
    "    r=n%10\n",
    "    res=res*10+r\n",
    "    n=n//10\n",
    "print(res)"
   ]
  },
  {
   "cell_type": "code",
   "execution_count": 15,
   "metadata": {},
   "outputs": [
    {
     "name": "stdout",
     "output_type": "stream",
     "text": [
      "anayaran avihs\n"
     ]
    }
   ],
   "source": [
    "s=\"shiva narayana\"\n",
    "start=0\n",
    "end=len(s)-1\n",
    "res=\"\"\n",
    "while end>=start:\n",
    "    res+=s[end]\n",
    "    end-=1\n",
    "print(res)\n",
    "\n",
    "    "
   ]
  },
  {
   "cell_type": "code",
   "execution_count": 1,
   "metadata": {},
   "outputs": [
    {
     "data": {
      "text/plain": [
       "'sHIVa'"
      ]
     },
     "execution_count": 1,
     "metadata": {},
     "output_type": "execute_result"
    }
   ],
   "source": [
    "def swap_case(s):\n",
    "    start=0\n",
    "    res=\"\"\n",
    "    while start<len(s):\n",
    "        if not(\"A\"<=s[start]<=\"Z\"):\n",
    "            res+=chr(ord(s[start])-32)\n",
    "        else:\n",
    "            res+=chr(ord(s[start])+32)\n",
    "        start+=1\n",
    "    return res\n",
    "swap_case(\"ShivA\")"
   ]
  },
  {
   "cell_type": "code",
   "execution_count": 27,
   "metadata": {},
   "outputs": [
    {
     "data": {
      "text/plain": [
       "'SHIVAshiva123.$ *'"
      ]
     },
     "execution_count": 27,
     "metadata": {},
     "output_type": "execute_result"
    }
   ],
   "source": []
  }
 ],
 "metadata": {
  "kernelspec": {
   "display_name": "Python 3",
   "language": "python",
   "name": "python3"
  },
  "language_info": {
   "codemirror_mode": {
    "name": "ipython",
    "version": 3
   },
   "file_extension": ".py",
   "mimetype": "text/x-python",
   "name": "python",
   "nbconvert_exporter": "python",
   "pygments_lexer": "ipython3",
   "version": "3.11.3"
  },
  "orig_nbformat": 4
 },
 "nbformat": 4,
 "nbformat_minor": 2
}
