{
 "cells": [
  {
   "cell_type": "code",
   "execution_count": 3,
   "metadata": {},
   "outputs": [
    {
     "name": "stdout",
     "output_type": "stream",
     "text": [
      "model no : 4983\n",
      "name : mi\n",
      "colour : black\n",
      "price : 7000\n"
     ]
    }
   ],
   "source": [
    "def mobile(modelno,name,colour,price):\n",
    "    print(\"model no :\",modelno)\n",
    "    print(\"name :\",name)\n",
    "    print(\"colour :\",colour)\n",
    "    print(\"price :\",price)\n",
    "mobile(4983,\"mi\",\"black\",7000)\n",
    "#positional arguments rules:\n",
    "#no of actual arguments is equal to the no of formal positional arguments"
   ]
  },
  {
   "cell_type": "code",
   "execution_count": 4,
   "metadata": {},
   "outputs": [
    {
     "ename": "TypeError",
     "evalue": "mobile() takes 4 positional arguments but 5 were given",
     "output_type": "error",
     "traceback": [
      "\u001b[1;31m---------------------------------------------------------------------------\u001b[0m",
      "\u001b[1;31mTypeError\u001b[0m                                 Traceback (most recent call last)",
      "Cell \u001b[1;32mIn[4], line 6\u001b[0m\n\u001b[0;32m      4\u001b[0m     \u001b[39mprint\u001b[39m(\u001b[39m\"\u001b[39m\u001b[39mcolour :\u001b[39m\u001b[39m\"\u001b[39m,colour)\n\u001b[0;32m      5\u001b[0m     \u001b[39mprint\u001b[39m(\u001b[39m\"\u001b[39m\u001b[39mprice :\u001b[39m\u001b[39m\"\u001b[39m,price)\n\u001b[1;32m----> 6\u001b[0m mobile(\u001b[39m4983\u001b[39;49m,\u001b[39m\"\u001b[39;49m\u001b[39mmi\u001b[39;49m\u001b[39m\"\u001b[39;49m,\u001b[39m\"\u001b[39;49m\u001b[39mblack\u001b[39;49m\u001b[39m\"\u001b[39;49m,\u001b[39m7000\u001b[39;49m,\u001b[39m800\u001b[39;49m)\n",
      "\u001b[1;31mTypeError\u001b[0m: mobile() takes 4 positional arguments but 5 were given"
     ]
    }
   ],
   "source": [
    "def mobile(modelno,name,colour,price):\n",
    "    print(\"model no :\",modelno)\n",
    "    print(\"name :\",name)\n",
    "    print(\"colour :\",colour)\n",
    "    print(\"price :\",price)\n",
    "mobile(4983,\"mi\",\"black\",7000,800)"
   ]
  },
  {
   "cell_type": "code",
   "execution_count": 5,
   "metadata": {},
   "outputs": [
    {
     "name": "stdout",
     "output_type": "stream",
     "text": [
      "20\n",
      "30\n",
      "10\n"
     ]
    }
   ],
   "source": [
    "#default arguments\n",
    "def mobile(a,b,c=10):\n",
    "    print(a)\n",
    "    print(b)\n",
    "    print(c)\n",
    "mobile (20,30)"
   ]
  },
  {
   "cell_type": "code",
   "execution_count": 6,
   "metadata": {},
   "outputs": [
    {
     "name": "stdout",
     "output_type": "stream",
     "text": [
      "pen name  : celo fast\n",
      "pen_type : ball pen\n",
      "pen company : cello\n",
      "pen price 6\n"
     ]
    }
   ],
   "source": [
    "#default arguments\n",
    "def mobile(name=\"celo fast\",p_type=\"ball pen\",company=\"cello\",price=6):\n",
    "    print(\"pen name  :\",name)\n",
    "    print(\"pen_type :\",p_type)\n",
    "    print(\"pen company :\",company)\n",
    "    print(\"pen price\",price)\n",
    "mobile()"
   ]
  },
  {
   "cell_type": "code",
   "execution_count": 7,
   "metadata": {},
   "outputs": [
    {
     "name": "stdout",
     "output_type": "stream",
     "text": [
      "pen name  : iball\n",
      "pen_type : ballpen\n",
      "pen company : iball\n",
      "pen price 1500\n"
     ]
    }
   ],
   "source": [
    "def mobile(name=\"celo fast\",p_type=\"ball pen\",company=\"cello\",price=6):\n",
    "    print(\"pen name  :\",name)\n",
    "    print(\"pen_type :\",p_type)\n",
    "    print(\"pen company :\",company)\n",
    "    print(\"pen price\",price)\n",
    "mobile(\"iball\",\"ballpen\",\"iball\",1500)"
   ]
  },
  {
   "cell_type": "code",
   "execution_count": 8,
   "metadata": {},
   "outputs": [
    {
     "ename": "TypeError",
     "evalue": "mobile() takes from 0 to 4 positional arguments but 5 were given",
     "output_type": "error",
     "traceback": [
      "\u001b[1;31m---------------------------------------------------------------------------\u001b[0m",
      "\u001b[1;31mTypeError\u001b[0m                                 Traceback (most recent call last)",
      "Cell \u001b[1;32mIn[8], line 6\u001b[0m\n\u001b[0;32m      4\u001b[0m     \u001b[39mprint\u001b[39m(\u001b[39m\"\u001b[39m\u001b[39mpen company :\u001b[39m\u001b[39m\"\u001b[39m,company)\n\u001b[0;32m      5\u001b[0m     \u001b[39mprint\u001b[39m(\u001b[39m\"\u001b[39m\u001b[39mpen price\u001b[39m\u001b[39m\"\u001b[39m,price)\n\u001b[1;32m----> 6\u001b[0m mobile(\u001b[39m\"\u001b[39;49m\u001b[39miball\u001b[39;49m\u001b[39m\"\u001b[39;49m,\u001b[39m\"\u001b[39;49m\u001b[39mballpen\u001b[39;49m\u001b[39m\"\u001b[39;49m,\u001b[39m\"\u001b[39;49m\u001b[39miball\u001b[39;49m\u001b[39m\"\u001b[39;49m,\u001b[39m1500\u001b[39;49m,\u001b[39m5096\u001b[39;49m)\n",
      "\u001b[1;31mTypeError\u001b[0m: mobile() takes from 0 to 4 positional arguments but 5 were given"
     ]
    }
   ],
   "source": [
    "def mobile(name=\"celo fast\",p_type=\"ball pen\",company=\"cello\",price=6):\n",
    "    print(\"pen name  :\",name)\n",
    "    print(\"pen_type :\",p_type)\n",
    "    print(\"pen company :\",company)\n",
    "    print(\"pen price\",price)\n",
    "mobile(\"iball\",\"ballpen\",\"iball\",1500,5096)"
   ]
  },
  {
   "cell_type": "code",
   "execution_count": 9,
   "metadata": {},
   "outputs": [
    {
     "name": "stdout",
     "output_type": "stream",
     "text": [
      "college name : rainbow\n",
      "college address : hyd\n",
      "college branch : IT\n",
      "college fess : 9000\n"
     ]
    }
   ],
   "source": [
    "#keyword arguments\n",
    "def college(name,address,branchs,fee):\n",
    "    print(\"college name :\",name)\n",
    "    print(\"college address :\",address)\n",
    "    print(\"college branch :\",branchs)\n",
    "    print(\"college fess :\",fee)\n",
    "college(\"rainbow\",\"hyd\",\"IT\",9000)    "
   ]
  },
  {
   "cell_type": "code",
   "execution_count": 14,
   "metadata": {},
   "outputs": [
    {
     "name": "stdout",
     "output_type": "stream",
     "text": [
      "college name : rainbow\n",
      "college address : hyd\n",
      "college branch : IT\n",
      "college fess : 9000\n"
     ]
    }
   ],
   "source": [
    "def college(name,address,branchs,fee):\n",
    "    print(\"college name :\",name)\n",
    "    print(\"college address :\",address)\n",
    "    print(\"college branch :\",branchs)\n",
    "    print(\"college fess :\",fee)\n",
    "college(name=\"rainbow\",address=\"hyd\",branchs=\"IT\",fee=9000)"
   ]
  }
 ],
 "metadata": {
  "kernelspec": {
   "display_name": "Python 3",
   "language": "python",
   "name": "python3"
  },
  "language_info": {
   "codemirror_mode": {
    "name": "ipython",
    "version": 3
   },
   "file_extension": ".py",
   "mimetype": "text/x-python",
   "name": "python",
   "nbconvert_exporter": "python",
   "pygments_lexer": "ipython3",
   "version": "3.11.3"
  },
  "orig_nbformat": 4
 },
 "nbformat": 4,
 "nbformat_minor": 2
}
