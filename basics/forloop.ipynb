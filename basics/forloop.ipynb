{
 "cells": [
  {
   "cell_type": "code",
   "execution_count": 51,
   "metadata": {},
   "outputs": [
    {
     "name": "stdout",
     "output_type": "stream",
     "text": [
      "ii\n"
     ]
    }
   ],
   "source": [
    "#WAP to check wheather given char is present in given string or not \n",
    "\"\"\"st=\"shiva\"\n",
    "ch=\"i\"\n",
    "start=0\n",
    "end=len(st)\n",
    "while start<end:\n",
    "    if st[start]==ch:\n",
    "        print(start)\n",
    "    start+=1\"\"\"\n",
    "\"\"\"st=\"shivai\"\n",
    "ch=input()\n",
    "start=0\n",
    "for start in range(len(st)):\n",
    "    if st[start]==ch:\n",
    "        print(start)\n",
    "        break\"\"\"\n",
    "\"\"\"def character(st=\"shivai\",ch=\"i\"):\n",
    "    start=0\n",
    "    while start<len(st):\n",
    "        if st[start]==ch:\n",
    "            print(start)\n",
    "        start+=1\n",
    "character()\"\"\"\n",
    "def character(st,ch):\n",
    "    start=0\n",
    "    str1=\"\"\n",
    "    while start<len(st):\n",
    "        if st[start]==ch:\n",
    "            str1+=st[start]\n",
    "        start+=1\n",
    "    print(str1)\n",
    "character(\"shivai\",\"i\")"
   ]
  },
  {
   "cell_type": "code",
   "execution_count": 53,
   "metadata": {},
   "outputs": [
    {
     "name": "stdout",
     "output_type": "stream",
     "text": [
      "14\n"
     ]
    }
   ],
   "source": [
    "#character occerence\n",
    "st=\"shiva narayanai\"\n",
    "ch=input()\n",
    "pos=5\n",
    "start=0\n",
    "ch1=0\n",
    "index=0\n",
    "while start<len(st):\n",
    "    index+=1\n",
    "    if st[start]==ch:\n",
    "        ch1+=1\n",
    "    start+=1\n",
    "    if pos==ch1:\n",
    "        print(index)"
   ]
  },
  {
   "cell_type": "code",
   "execution_count": 45,
   "metadata": {},
   "outputs": [
    {
     "name": "stdout",
     "output_type": "stream",
     "text": [
      "n is present in 4 position\n"
     ]
    }
   ],
   "source": [
    "s=\"srinivas harshi shiva\"\n",
    "ch=\"n\"\n",
    "pos=1\n",
    "i=0\n",
    "c1=0\n",
    "c=0\n",
    "while i<len(s):\n",
    "    c+=1\n",
    "    if s[i]==ch:\n",
    "        c1+=1\n",
    "        if c1==pos:\n",
    "            print(ch,\"is present in\",c,\"position\")\n",
    "    i+=1\n",
    "    "
   ]
  },
  {
   "cell_type": "code",
   "execution_count": 8,
   "metadata": {},
   "outputs": [
    {
     "name": "stdout",
     "output_type": "stream",
     "text": [
      "3\n"
     ]
    }
   ],
   "source": [
    "def Index(s,ch):\n",
    "    i=0\n",
    "    while i<len(s):\n",
    "        if s[i]==ch:\n",
    "            print(i)\n",
    "        i+=1\n",
    "Index(\"shiva\",\"v\")"
   ]
  },
  {
   "cell_type": "code",
   "execution_count": 22,
   "metadata": {},
   "outputs": [
    {
     "name": "stdout",
     "output_type": "stream",
     "text": [
      "shivanarayana\n"
     ]
    }
   ],
   "source": [
    "#WAP to convert uppercase to lowercase\n",
    "st=\"SHIVANARAYANA\"\n",
    "start=0\n",
    "str1=\"\"\n",
    "while start<len(st):\n",
    "    str1+=(chr(ord(st[start])+32))\n",
    "    start+=1\n",
    "print(str1)\n"
   ]
  },
  {
   "cell_type": "code",
   "execution_count": 8,
   "metadata": {},
   "outputs": [
    {
     "name": "stdout",
     "output_type": "stream",
     "text": [
      "shivas\n"
     ]
    }
   ],
   "source": [
    "#\n",
    "s=input()\n",
    "res=\"\"\n",
    "for i in s:\n",
    "    if not(\"A\"<=i<=\"Z\"):\n",
    "        res+=i\n",
    "    else:\n",
    "        res+=chr(ord(i)+32)\n",
    "print(res)"
   ]
  },
  {
   "cell_type": "code",
   "execution_count": 35,
   "metadata": {},
   "outputs": [
    {
     "name": "stdout",
     "output_type": "stream",
     "text": [
      "shivashiva\n"
     ]
    }
   ],
   "source": [
    "#WAp to convert uppercase to lowercase\n",
    "st=\"shivaShiva\"\n",
    "start=0\n",
    "res=\"\"\n",
    "while start<len(st):\n",
    "    if \"A\"<=st[start]<=\"Z\":\n",
    "        res+=(chr(ord(st[start])+32))\n",
    "    else:\n",
    "        res+=st[start]\n",
    "    start+=1\n",
    "print(res)"
   ]
  },
  {
   "cell_type": "code",
   "execution_count": 36,
   "metadata": {},
   "outputs": [
    {
     "name": "stdout",
     "output_type": "stream",
     "text": [
      "SHIVASHIVA\n"
     ]
    }
   ],
   "source": [
    "#wap to convert lowercase to uppercase\n",
    "st=\"SHIVAsHIVA\"\n",
    "start=0\n",
    "res=\"\"\n",
    "while start<len(st):\n",
    "    if not(\"A\"<=st[start]<=\"Z\"):\n",
    "        res+=(chr(ord(st[start])-32))\n",
    "    else:\n",
    "        res+=st[start]\n",
    "    start+=1\n",
    "print(res)"
   ]
  },
  {
   "cell_type": "code",
   "execution_count": 31,
   "metadata": {},
   "outputs": [
    {
     "data": {
      "text/plain": [
       "'shivashiva'"
      ]
     },
     "execution_count": 31,
     "metadata": {},
     "output_type": "execute_result"
    }
   ],
   "source": [
    "def uppercase(coll):\n",
    "    start=0\n",
    "    res=\"\"\n",
    "    while start<len(coll):\n",
    "        if (\"A\"<=coll[start]<=\"Z\"):\n",
    "            res+=chr(ord(coll[start])+32)\n",
    "        else:\n",
    "            res+=coll[start]\n",
    "        start+=1\n",
    "    return res\n",
    "uppercase(\"shivaShiva\")\n",
    "            "
   ]
  },
  {
   "cell_type": "code",
   "execution_count": 15,
   "metadata": {},
   "outputs": [
    {
     "data": {
      "text/plain": [
       "False"
      ]
     },
     "execution_count": 15,
     "metadata": {},
     "output_type": "execute_result"
    }
   ],
   "source": [
    "#check wheather given string containing uppercase or not\n",
    "def lowercase(st):\n",
    "    start=0\n",
    "    for start in range(len(st)):\n",
    "        if \"a\"<=st[start]<=\"z\":\n",
    "            return False\n",
    "        return True\n",
    "lowercase(\"sHiva\")"
   ]
  },
  {
   "cell_type": "code",
   "execution_count": 21,
   "metadata": {},
   "outputs": [
    {
     "data": {
      "text/plain": [
       "True"
      ]
     },
     "execution_count": 21,
     "metadata": {},
     "output_type": "execute_result"
    }
   ],
   "source": [
    "#WAP to check wheather given number is numeric or not\n",
    "st=\"123\"\n",
    "st.isdecimal()"
   ]
  },
  {
   "cell_type": "code",
   "execution_count": 12,
   "metadata": {},
   "outputs": [
    {
     "data": {
      "text/plain": [
       "True"
      ]
     },
     "execution_count": 12,
     "metadata": {},
     "output_type": "execute_result"
    }
   ],
   "source": [
    "#WAP to check wheather given number is numeric or not\n",
    "def numeric(st):\n",
    "    start=0\n",
    "    for start in range(len(st)):\n",
    "        if not (\"0\"<=st[start]>=\"9\"):\n",
    "            return False\n",
    "    return True\n",
    "numeric(\"shiva\")"
   ]
  },
  {
   "cell_type": "code",
   "execution_count": 11,
   "metadata": {},
   "outputs": [
    {
     "name": "stdout",
     "output_type": "stream",
     "text": [
      "False\n",
      "True\n"
     ]
    }
   ],
   "source": [
    "#wap to check wheather given string is alpha numerical or not\n",
    "def numeric(num):\n",
    "    start=0\n",
    "    for start in range(len(num)):\n",
    "        if \"0\"<=num[start]<=\"9\" or \"a\"<=num[start]<=\"z\" or \"A\"<=num[start]<=\"Z\":\n",
    "            return True\n",
    "        return False\n",
    "print(numeric(\"#$$%\"))\n",
    "print(numeric(\"ab\"))"
   ]
  },
  {
   "cell_type": "code",
   "execution_count": 5,
   "metadata": {},
   "outputs": [
    {
     "data": {
      "text/plain": [
       "False"
      ]
     },
     "execution_count": 5,
     "metadata": {},
     "output_type": "execute_result"
    }
   ],
   "source": [
    "def numeric(num):\n",
    "    start=0\n",
    "    for start in range(len(num)):\n",
    "        if not(\"0\"<=num[start]<=\"9\"):\n",
    "            return False\n",
    "    return True\n",
    "numeric(\"123s\")"
   ]
  },
  {
   "cell_type": "code",
   "execution_count": 47,
   "metadata": {},
   "outputs": [
    {
     "name": "stdout",
     "output_type": "stream",
     "text": [
      "SHIVa\n"
     ]
    }
   ],
   "source": [
    "#starting characters should be upper case\n",
    "st=\"sHIVa\"\n",
    "start=0\n",
    "res=\"\"\n",
    "if not(\"A\"<=st[start]<=\"Z\"):\n",
    "    res+=(chr(ord(st[start])-32))\n",
    "for start in range(1,len(st)):\n",
    "    res+=st[start]\n",
    "print(res)"
   ]
  }
 ],
 "metadata": {
  "kernelspec": {
   "display_name": "Python 3",
   "language": "python",
   "name": "python3"
  },
  "language_info": {
   "codemirror_mode": {
    "name": "ipython",
    "version": 3
   },
   "file_extension": ".py",
   "mimetype": "text/x-python",
   "name": "python",
   "nbconvert_exporter": "python",
   "pygments_lexer": "ipython3",
   "version": "3.11.3"
  },
  "orig_nbformat": 4
 },
 "nbformat": 4,
 "nbformat_minor": 2
}
