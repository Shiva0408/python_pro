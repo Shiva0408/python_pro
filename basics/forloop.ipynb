{
 "cells": [
  {
   "cell_type": "code",
   "execution_count": 50,
   "metadata": {},
   "outputs": [
    {
     "name": "stdout",
     "output_type": "stream",
     "text": [
      "14\n"
     ]
    }
   ],
   "source": [
    "#WAP to check wheather given char is present in given string or not \n",
    "\"\"\"st=\"shiva\"\n",
    "ch=\"i\"\n",
    "start=0\n",
    "end=len(st)\n",
    "while start<end:\n",
    "    if st[start]==ch:\n",
    "        print(start)\n",
    "    start+=1\"\"\"\n",
    "\"\"\"st=\"shivai\"\n",
    "ch=input()\n",
    "start=0\n",
    "for start in range(len(st)):\n",
    "    if st[start]==ch:\n",
    "        print(start)\n",
    "        break\"\"\"\n",
    "\"\"\"def character(st=\"shivai\",ch=\"i\"):\n",
    "    start=0\n",
    "    while start<len(st):\n",
    "        if st[start]==ch:\n",
    "            print(start)\n",
    "        start+=1\n",
    "character()\"\"\"\n",
    "\"\"\"def character(st,ch):\n",
    "    start=0\n",
    "    str1=\"\"\n",
    "    while start<len(st):\n",
    "        if st[start]==ch:\n",
    "            str1+=st[start]\n",
    "        start+=1\n",
    "    print(str1)\n",
    "character(\"shivai\",\"i\")\"\"\"\n",
    "#character occerence\n",
    "st=\"shiva narayana\"\n",
    "ch=input()\n",
    "pos=5\n",
    "start=0\n",
    "ch1=0\n",
    "index=0\n",
    "while start<len(st):\n",
    "    index+=1\n",
    "    if st[start]==ch:\n",
    "        ch1+=1\n",
    "    start+=1\n",
    "    if pos==ch1:\n",
    "        print(index)"
   ]
  },
  {
   "cell_type": "code",
   "execution_count": 45,
   "metadata": {},
   "outputs": [
    {
     "name": "stdout",
     "output_type": "stream",
     "text": [
      "n is present in 4 position\n"
     ]
    }
   ],
   "source": [
    "s=\"srinivas harshi shiva\"\n",
    "ch=\"n\"\n",
    "pos=1\n",
    "i=0\n",
    "c1=0\n",
    "c=0\n",
    "while i<len(s):\n",
    "    c+=1\n",
    "    if s[i]==ch:\n",
    "        c1+=1\n",
    "        if c1==pos:\n",
    "            print(ch,\"is present in\",c,\"position\")\n",
    "    i+=1\n",
    "    "
   ]
  },
  {
   "cell_type": "code",
   "execution_count": 8,
   "metadata": {},
   "outputs": [
    {
     "name": "stdout",
     "output_type": "stream",
     "text": [
      "3\n"
     ]
    }
   ],
   "source": [
    "def Index(s,ch):\n",
    "    i=0\n",
    "    while i<len(s):\n",
    "        if s[i]==ch:\n",
    "            print(i)\n",
    "        i+=1\n",
    "Index(\"shiva\",\"v\")"
   ]
  }
 ],
 "metadata": {
  "kernelspec": {
   "display_name": "Python 3",
   "language": "python",
   "name": "python3"
  },
  "language_info": {
   "codemirror_mode": {
    "name": "ipython",
    "version": 3
   },
   "file_extension": ".py",
   "mimetype": "text/x-python",
   "name": "python",
   "nbconvert_exporter": "python",
   "pygments_lexer": "ipython3",
   "version": "3.11.3"
  },
  "orig_nbformat": 4
 },
 "nbformat": 4,
 "nbformat_minor": 2
}
